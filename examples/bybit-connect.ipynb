{
 "cells": [
  {
   "cell_type": "code",
   "execution_count": 1,
   "id": "95a53a42-d9d2-40c7-9f18-ba25b54cbb86",
   "metadata": {},
   "outputs": [],
   "source": [
    "%load_ext autoreload\n",
    "%autoreload 2"
   ]
  },
  {
   "cell_type": "code",
   "execution_count": 2,
   "id": "e6b80319-8551-49aa-9a43-6ad541d59aca",
   "metadata": {},
   "outputs": [],
   "source": [
    "import numpy as np\n"
   ]
  },
  {
   "cell_type": "code",
   "execution_count": 3,
   "id": "28e479ce",
   "metadata": {},
   "outputs": [],
   "source": [
    "from dspy.api import get_api\n",
    "from dspy.api.bybit import Config"
   ]
  },
  {
   "cell_type": "markdown",
   "id": "47181fcf-e826-4fdc-9620-9d171f6480cb",
   "metadata": {},
   "source": [
    "# <font color=\"grey\">Simple ByBit API</font>"
   ]
  },
  {
   "cell_type": "code",
   "execution_count": 4,
   "id": "b1e0ac10",
   "metadata": {},
   "outputs": [],
   "source": [
    "# Fixed parameters\n",
    "API_KEY = \"StMMBpVlRHbiZF5tki\"\n",
    "API_SECRET = \"DOe9UXJgeWLpTKWBibHBpjIDW0UpSON9FuUp\"\n",
    "SYMBOL = 'BTCUSDT'\n",
    "COIN = 'USDT'\n",
    "\n",
    "# Parameters to be optimized\n",
    "EQUITY = 2.0\n",
    "RANGE = 0.005\n",
    "NUM_ORDERS = 5\n",
    "POLLING_RATE = 1\n",
    "TP_DIST = 0.0005\n",
    "STOP_DIST = 0 #0.025\n",
    "\n",
    "config = Config(API_KEY, \n",
    "                API_SECRET, \n",
    "                SYMBOL, \n",
    "                COIN, \n",
    "                EQUITY, \n",
    "                RANGE, \n",
    "                NUM_ORDERS, \n",
    "                POLLING_RATE, \n",
    "                TP_DIST, \n",
    "                STOP_DIST)"
   ]
  },
  {
   "cell_type": "code",
   "execution_count": 12,
   "id": "a823580d-a388-426e-bb58-2a04a5f2b128",
   "metadata": {},
   "outputs": [],
   "source": [
    "api = get_api('bybit', config=config)"
   ]
  },
  {
   "cell_type": "code",
   "execution_count": 13,
   "id": "9f9335dc-9403-4ffb-aea0-1c5728bebd2c",
   "metadata": {},
   "outputs": [],
   "source": [
    "symbols = ['BTCUSDT', 'ETHUSDT']"
   ]
  },
  {
   "cell_type": "markdown",
   "id": "4f8ac384-b2a9-4903-8d90-0223840ec3c6",
   "metadata": {},
   "source": [
    "###  <a id='chapter1'> <font color=\"grey\">Prices and Volumes</font></a>"
   ]
  },
  {
   "cell_type": "code",
   "execution_count": 14,
   "id": "cc984e1e-638c-4cc7-b3e6-40fda8e306a8",
   "metadata": {},
   "outputs": [
    {
     "name": "stdout",
     "output_type": "stream",
     "text": [
      "Last price:  2220.98\n"
     ]
    }
   ],
   "source": [
    "mid = api.get_mid(symbols[1])\n",
    "print(f\"Last price: {mid}\")"
   ]
  },
  {
   "cell_type": "code",
   "execution_count": 18,
   "id": "1b8b2e8e-f628-47b4-b9f0-7d0d5033257c",
   "metadata": {},
   "outputs": [
    {
     "name": "stdout",
     "output_type": "stream",
     "text": [
      "Bid:  [85871.8, 3.761]\n",
      "Ask:  [85871.9, 6.073]\n"
     ]
    }
   ],
   "source": [
    "ask = api.get_ask(symbols[0])\n",
    "bid = api.get_bid(symbols[0])\n",
    "print(f\"Bid: {bid}\")\n",
    "print(f\"Ask: {ask}\")"
   ]
  },
  {
   "cell_type": "code",
   "execution_count": 20,
   "id": "79e8b215",
   "metadata": {},
   "outputs": [
    {
     "name": "stdout",
     "output_type": "stream",
     "text": [
      "Bids: [[8.58546e+04 8.70400e+00]\n",
      " [8.58545e+04 3.49000e-01]\n",
      " [8.58540e+04 7.20000e-02]\n",
      " [8.58536e+04 4.90000e-02]\n",
      " [8.58535e+04 4.30000e-02]]\n",
      "Asks: [[8.58547e+04 4.80000e-02]\n",
      " [8.58549e+04 1.00000e+01]\n",
      " [8.58560e+04 2.00000e-03]\n",
      " [8.58569e+04 2.00000e-03]\n",
      " [8.58578e+04 2.00000e-03]]\n"
     ]
    }
   ],
   "source": [
    "orderbook = api.get_orderbook(symbols[0], depth=5)\n",
    "print(f\"Bids: {orderbook['b']}\")\n",
    "print(f\"Asks: {orderbook['a']}\")"
   ]
  },
  {
   "cell_type": "code",
   "execution_count": 22,
   "id": "c42de4fa",
   "metadata": {},
   "outputs": [
    {
     "name": "stdout",
     "output_type": "stream",
     "text": [
      "Latency: 2\n"
     ]
    }
   ],
   "source": [
    "print(f\"Latency: {api.get_latency(symbols[1])}\")"
   ]
  },
  {
   "cell_type": "code",
   "execution_count": 31,
   "id": "6a5e5446",
   "metadata": {},
   "outputs": [
    {
     "data": {
      "text/plain": [
       "[{'ts': '1740908585370', 'price': 85961.3, 'qty': 0.001, 'side': -1},\n",
       " {'ts': '1740908585360', 'price': 85961.4, 'qty': 0.01, 'side': 1},\n",
       " {'ts': '1740908584842', 'price': 85961.4, 'qty': 0.001, 'side': 1},\n",
       " {'ts': '1740908584454', 'price': 85961.4, 'qty': 0.01, 'side': 1},\n",
       " {'ts': '1740908583997', 'price': 85961.4, 'qty': 0.008, 'side': 1}]"
      ]
     },
     "execution_count": 31,
     "metadata": {},
     "output_type": "execute_result"
    }
   ],
   "source": [
    "trades = api.get_trades(symbols[0], limit=5)\n",
    "trades"
   ]
  },
  {
   "cell_type": "markdown",
   "id": "1b7b65bd-d822-41cf-907b-16e1aa16acd8",
   "metadata": {},
   "source": [
    "### Account info"
   ]
  },
  {
   "cell_type": "code",
   "execution_count": 32,
   "id": "48f8c468-a273-4c46-8088-f9c3b02858fc",
   "metadata": {},
   "outputs": [
    {
     "name": "stdout",
     "output_type": "stream",
     "text": [
      "Balance: 962.76372892\n"
     ]
    }
   ],
   "source": [
    "balance = api.get_wallet_balance()\n",
    "print(f\"Balance: {balance}\")"
   ]
  },
  {
   "cell_type": "code",
   "execution_count": 26,
   "id": "f647bd49-7da7-4a56-856d-9e5a17b574de",
   "metadata": {},
   "outputs": [
    {
     "name": "stdout",
     "output_type": "stream",
     "text": [
      "Taker fees: 0.00055\n",
      "Maker fees: 0.0002\n"
     ]
    }
   ],
   "source": [
    "fees = api.get_fees('BTCUSDT')\n",
    "print(f\"Taker fees: {fees[0]}\")\n",
    "print(f\"Maker fees: {fees[1]}\")"
   ]
  },
  {
   "cell_type": "markdown",
   "id": "022ea750-73a9-4d34-b921-bc56779f8f79",
   "metadata": {},
   "source": [
    "### Position info"
   ]
  },
  {
   "cell_type": "code",
   "execution_count": 52,
   "id": "d982242d-da5d-4127-83ae-b93a87ab3984",
   "metadata": {},
   "outputs": [
    {
     "data": {
      "text/plain": [
       "{'BTCUSDT': {'size': 0.005,\n",
       "  'aep': 86019.3,\n",
       "  'mark_price': 85883.2,\n",
       "  'value': 430.0965,\n",
       "  'leverage': 100.0,\n",
       "  'position_balance': 0.0,\n",
       "  'unrealized_pnl': -0.6805,\n",
       "  'realized_pnl': -0.23655308},\n",
       " 'ETHUSDT': {'size': 0,\n",
       "  'aep': 0,\n",
       "  'mark_price': 2244.52,\n",
       "  'value': 0,\n",
       "  'leverage': 100.0,\n",
       "  'position_balance': 0,\n",
       "  'unrealized_pnl': 0,\n",
       "  'realized_pnl': 0.0}}"
      ]
     },
     "execution_count": 52,
     "metadata": {},
     "output_type": "execute_result"
    }
   ],
   "source": [
    "pos = api.get_positions(symbols)\n",
    "pos"
   ]
  },
  {
   "cell_type": "markdown",
   "id": "66f86d1a-5ced-454e-aa79-f7beb56e6468",
   "metadata": {},
   "source": [
    "### Trading"
   ]
  },
  {
   "cell_type": "code",
   "execution_count": 34,
   "id": "77291941-b2bb-4fcf-a7b0-52ecffa8747b",
   "metadata": {},
   "outputs": [
    {
     "data": {
      "text/plain": [
       "{'order_id': 'e571d640-49a1-4c32-94d4-e5dd481b701a',\n",
       " 'ret_code': 0,\n",
       " 'time': 1740908802469}"
      ]
     },
     "execution_count": 34,
     "metadata": {},
     "output_type": "execute_result"
    }
   ],
   "source": [
    "# Place market order\n",
    "res = api.place_order('BTCUSDT', 0.005)\n",
    "res"
   ]
  },
  {
   "cell_type": "code",
   "execution_count": 46,
   "id": "c3ecf939-cccc-4a8e-a647-2f5612438742",
   "metadata": {},
   "outputs": [
    {
     "name": "stdout",
     "output_type": "stream",
     "text": [
      "Balance: 957.91587957\n"
     ]
    }
   ],
   "source": [
    "balance = api.get_wallet_balance()\n",
    "print(f\"Balance: {balance}\")"
   ]
  },
  {
   "cell_type": "code",
   "execution_count": 36,
   "id": "1432df3e-2f04-4df4-8802-4ba55d4c52d0",
   "metadata": {},
   "outputs": [
    {
     "data": {
      "text/plain": [
       "{'size': 0.005,\n",
       " 'aep': 86019.3,\n",
       " 'mark_price': 85961.15,\n",
       " 'value': 430.0965,\n",
       " 'leverage': 100.0,\n",
       " 'position_balance': 0.0,\n",
       " 'unrealized_pnl': -0.29075,\n",
       " 'realized_pnl': -0.23655308}"
      ]
     },
     "execution_count": 36,
     "metadata": {},
     "output_type": "execute_result"
    }
   ],
   "source": [
    "pos = api.get_position(symbols[0])\n",
    "pos"
   ]
  },
  {
   "cell_type": "code",
   "execution_count": 54,
   "id": "c0ffeff9-a7b8-46f0-bab5-294aaa906b96",
   "metadata": {},
   "outputs": [],
   "source": [
    "pos = api.get_positions([symbols[0]])\n",
    "diff = (pos['mark_price']-pos['aep'])*0.005\n",
    "diff2 = pos['unrealized_pnl']\n",
    "assert abs(diff2-diff) < 1e-7"
   ]
  },
  {
   "cell_type": "code",
   "execution_count": 55,
   "id": "420cdedc",
   "metadata": {},
   "outputs": [
    {
     "data": {
      "text/plain": [
       "{'BTCUSDT': 0, 'ETHUSDT': None}"
      ]
     },
     "execution_count": 55,
     "metadata": {},
     "output_type": "execute_result"
    }
   ],
   "source": [
    "resp = api.close_positions(symbols)\n",
    "resp"
   ]
  },
  {
   "cell_type": "code",
   "execution_count": 56,
   "id": "98ec3892",
   "metadata": {},
   "outputs": [
    {
     "data": {
      "text/plain": [
       "{'BTCUSDT': {'size': 0,\n",
       "  'aep': 0,\n",
       "  'mark_price': 85821.3,\n",
       "  'value': 0,\n",
       "  'leverage': 100.0,\n",
       "  'position_balance': 0,\n",
       "  'unrealized_pnl': 0,\n",
       "  'realized_pnl': 0.0},\n",
       " 'ETHUSDT': {'size': 0,\n",
       "  'aep': 0,\n",
       "  'mark_price': 2243.99,\n",
       "  'value': 0,\n",
       "  'leverage': 100.0,\n",
       "  'position_balance': 0,\n",
       "  'unrealized_pnl': 0,\n",
       "  'realized_pnl': 0.0}}"
      ]
     },
     "execution_count": 56,
     "metadata": {},
     "output_type": "execute_result"
    }
   ],
   "source": [
    "api.get_positions(symbols)"
   ]
  }
 ],
 "metadata": {
  "kernelspec": {
   "display_name": ".venv",
   "language": "python",
   "name": "python3"
  },
  "language_info": {
   "codemirror_mode": {
    "name": "ipython",
    "version": 3
   },
   "file_extension": ".py",
   "mimetype": "text/x-python",
   "name": "python",
   "nbconvert_exporter": "python",
   "pygments_lexer": "ipython3",
   "version": "3.12.8"
  }
 },
 "nbformat": 4,
 "nbformat_minor": 5
}
