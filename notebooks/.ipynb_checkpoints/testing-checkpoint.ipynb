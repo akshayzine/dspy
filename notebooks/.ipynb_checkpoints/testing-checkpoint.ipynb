{
 "cells": [
  {
   "cell_type": "code",
   "execution_count": 1,
   "id": "eca68fa3",
   "metadata": {},
   "outputs": [
    {
     "name": "stdout",
     "output_type": "stream",
     "text": [
      "dataframe from: 2025-04-01 00:00:00 to: 2025-04-02 12:59:59\n"
     ]
    },
    {
     "data": {
      "text/html": [
       "<div><style>\n",
       ".dataframe > thead > tr,\n",
       ".dataframe > tbody > tr {\n",
       "  text-align: right;\n",
       "  white-space: pre-wrap;\n",
       "}\n",
       "</style>\n",
       "<small>shape: (5, 23)</small><table border=\"1\" class=\"dataframe\"><thead><tr><th>ts</th><th>ts_local</th><th>asks[0].price</th><th>asks[0].amount</th><th>bids[0].price</th><th>bids[0].amount</th><th>asks[1].price</th><th>asks[1].amount</th><th>bids[1].price</th><th>bids[1].amount</th><th>asks[2].price</th><th>asks[2].amount</th><th>bids[2].price</th><th>bids[2].amount</th><th>asks[3].price</th><th>asks[3].amount</th><th>bids[3].price</th><th>bids[3].amount</th><th>asks[4].price</th><th>asks[4].amount</th><th>bids[4].price</th><th>bids[4].amount</th><th>mid</th></tr><tr><td>i64</td><td>i64</td><td>f64</td><td>f64</td><td>f64</td><td>f64</td><td>f64</td><td>f64</td><td>f64</td><td>f64</td><td>f64</td><td>f64</td><td>f64</td><td>f64</td><td>f64</td><td>f64</td><td>f64</td><td>f64</td><td>f64</td><td>f64</td><td>f64</td><td>f64</td><td>f64</td></tr></thead><tbody><tr><td>1743465600287000000</td><td>1743465601009280000</td><td>82517.5</td><td>5.192</td><td>82517.4</td><td>10.116</td><td>82517.6</td><td>0.79</td><td>82517.3</td><td>0.016</td><td>82517.9</td><td>0.002</td><td>82517.2</td><td>0.002</td><td>82518.3</td><td>0.002</td><td>82516.1</td><td>0.185</td><td>82518.4</td><td>0.002</td><td>82516.0</td><td>0.091</td><td>82517.45</td></tr><tr><td>1743465602054000000</td><td>1743465602057050000</td><td>82517.5</td><td>5.192</td><td>82517.4</td><td>10.098</td><td>82517.6</td><td>0.79</td><td>82517.3</td><td>0.016</td><td>82517.9</td><td>0.002</td><td>82517.2</td><td>0.002</td><td>82518.3</td><td>0.002</td><td>82516.1</td><td>0.185</td><td>82518.4</td><td>0.002</td><td>82516.0</td><td>0.091</td><td>82517.45</td></tr><tr><td>1743465604841000000</td><td>1743465604844153000</td><td>82517.5</td><td>5.174</td><td>82517.4</td><td>8.993</td><td>82517.6</td><td>0.79</td><td>82517.3</td><td>0.016</td><td>82517.9</td><td>0.002</td><td>82517.2</td><td>0.002</td><td>82518.3</td><td>0.002</td><td>82516.1</td><td>0.185</td><td>82518.4</td><td>0.002</td><td>82516.0</td><td>0.002</td><td>82517.45</td></tr><tr><td>1743465604892000000</td><td>1743465604895330000</td><td>82517.5</td><td>5.485</td><td>82517.4</td><td>4.088</td><td>82517.6</td><td>0.79</td><td>82517.3</td><td>0.016</td><td>82517.9</td><td>0.002</td><td>82517.2</td><td>0.002</td><td>82518.3</td><td>0.002</td><td>82516.0</td><td>0.002</td><td>82518.4</td><td>0.002</td><td>82515.5</td><td>0.002</td><td>82517.45</td></tr><tr><td>1743465604943000000</td><td>1743465604946217000</td><td>82525.8</td><td>0.159</td><td>82525.7</td><td>2.129</td><td>82525.9</td><td>0.005</td><td>82525.3</td><td>0.1</td><td>82526.4</td><td>1.585</td><td>82523.6</td><td>0.1</td><td>82526.5</td><td>0.029</td><td>82523.1</td><td>0.1</td><td>82526.6</td><td>0.004</td><td>82522.7</td><td>0.097</td><td>82525.75</td></tr></tbody></table></div>"
      ],
      "text/plain": [
       "shape: (5, 23)\n",
       "┌───────────┬───────────┬───────────┬───────────┬───┬───────────┬───────────┬───────────┬──────────┐\n",
       "│ ts        ┆ ts_local  ┆ asks[0].p ┆ asks[0].a ┆ … ┆ asks[4].a ┆ bids[4].p ┆ bids[4].a ┆ mid      │\n",
       "│ ---       ┆ ---       ┆ rice      ┆ mount     ┆   ┆ mount     ┆ rice      ┆ mount     ┆ ---      │\n",
       "│ i64       ┆ i64       ┆ ---       ┆ ---       ┆   ┆ ---       ┆ ---       ┆ ---       ┆ f64      │\n",
       "│           ┆           ┆ f64       ┆ f64       ┆   ┆ f64       ┆ f64       ┆ f64       ┆          │\n",
       "╞═══════════╪═══════════╪═══════════╪═══════════╪═══╪═══════════╪═══════════╪═══════════╪══════════╡\n",
       "│ 174346560 ┆ 174346560 ┆ 82517.5   ┆ 5.192     ┆ … ┆ 0.002     ┆ 82516.0   ┆ 0.091     ┆ 82517.45 │\n",
       "│ 028700000 ┆ 100928000 ┆           ┆           ┆   ┆           ┆           ┆           ┆          │\n",
       "│ 0         ┆ 0         ┆           ┆           ┆   ┆           ┆           ┆           ┆          │\n",
       "│ 174346560 ┆ 174346560 ┆ 82517.5   ┆ 5.192     ┆ … ┆ 0.002     ┆ 82516.0   ┆ 0.091     ┆ 82517.45 │\n",
       "│ 205400000 ┆ 205705000 ┆           ┆           ┆   ┆           ┆           ┆           ┆          │\n",
       "│ 0         ┆ 0         ┆           ┆           ┆   ┆           ┆           ┆           ┆          │\n",
       "│ 174346560 ┆ 174346560 ┆ 82517.5   ┆ 5.174     ┆ … ┆ 0.002     ┆ 82516.0   ┆ 0.002     ┆ 82517.45 │\n",
       "│ 484100000 ┆ 484415300 ┆           ┆           ┆   ┆           ┆           ┆           ┆          │\n",
       "│ 0         ┆ 0         ┆           ┆           ┆   ┆           ┆           ┆           ┆          │\n",
       "│ 174346560 ┆ 174346560 ┆ 82517.5   ┆ 5.485     ┆ … ┆ 0.002     ┆ 82515.5   ┆ 0.002     ┆ 82517.45 │\n",
       "│ 489200000 ┆ 489533000 ┆           ┆           ┆   ┆           ┆           ┆           ┆          │\n",
       "│ 0         ┆ 0         ┆           ┆           ┆   ┆           ┆           ┆           ┆          │\n",
       "│ 174346560 ┆ 174346560 ┆ 82525.8   ┆ 0.159     ┆ … ┆ 0.004     ┆ 82522.7   ┆ 0.097     ┆ 82525.75 │\n",
       "│ 494300000 ┆ 494621700 ┆           ┆           ┆   ┆           ┆           ┆           ┆          │\n",
       "│ 0         ┆ 0         ┆           ┆           ┆   ┆           ┆           ┆           ┆          │\n",
       "└───────────┴───────────┴───────────┴───────────┴───┴───────────┴───────────┴───────────┴──────────┘"
      ]
     },
     "execution_count": 1,
     "metadata": {},
     "output_type": "execute_result"
    }
   ],
   "source": [
    "import json\n",
    "import sys\n",
    "from datetime import datetime, timedelta\n",
    "from pathlib import Path\n",
    "import polars as pl\n",
    "\n",
    "\n",
    "project_root = Path().resolve().parent\n",
    "sys.path.insert(0, str(project_root / \"src\"))\n",
    "\n",
    "from dspy.hdb import get_dataset\n",
    "from dspy.sim.market_simulator import MarketSimulator\n",
    "from dspy.utils import to_ns, ts_to_str\n",
    "from dspy.features.feature_utils import apply_batch_features, extract_features , flatten_features\n",
    "from dspy.agents.agent_utils import get_agent\n",
    "from dspy.features.utils import get_products\n",
    "from dspy.utils import add_ts_dt\n",
    "\n",
    "# ---------- Load run config file ----------\n",
    "\n",
    "def load_config(path: Path) -> dict:\n",
    "    with open(path, \"r\") as f:\n",
    "        return json.load(f)\n",
    "\n",
    "config_path = project_root / \"run/run_config.json\"\n",
    "config = load_config(config_path)\n",
    "\n",
    "dataset_name     = config[\"dataset\"]\n",
    "product          = config[\"product\"]\n",
    "depth            = config[\"depth\"]\n",
    "latency_ns       = config[\"latency_micros\"] * 1_000\n",
    "max_inventory    = config[\"max_inventory\"]\n",
    "inv_penalty      = config[\"inventory_penalty\"]\n",
    "initial_cash     = config[\"initial_cash\"]\n",
    "agent_config     = config[\"agent\"]\n",
    "intervals        = config[\"intervals\"]\n",
    "min_order_size   = config[\"min_order_size\"]\n",
    "tick_size        = config[\"tick_size\"]\n",
    "initial_cash     = config[\"initial_cash\"]\n",
    "cost_in_bps      = config[\"cost_in_bps\"]\n",
    "fixed_cost       = config[\"fixed_cost\"]\n",
    "simulator_mode   = config[\"simulator_mode\"]\n",
    "\n",
    "loader = get_dataset(dataset_name)\n",
    "all_books, all_ts = [], []\n",
    "feature_path = project_root / \"run/features.json\"\n",
    "feature_config = load_config(feature_path)\n",
    "inventory_feature_flag = \"inventory\" in feature_config.keys()\n",
    "\n",
    "#loaddataframe\n",
    "for interval in intervals:\n",
    "        start_str = interval[\"start\"]\n",
    "        end_str   = interval[\"end\"]\n",
    "        print('dataframe from:', start_str,'to:',end_str)\n",
    "\n",
    "        start_ts = datetime.strptime(interval[\"start\"], \"%Y-%m-%d %H:%M:%S\").strftime(\"%y%m%d.%H%M%S\")\n",
    "        end_ts   = datetime.strptime(interval[\"end\"],   \"%Y-%m-%d %H:%M:%S\").strftime(\"%y%m%d.%H%M%S\")\n",
    "\n",
    "        df = loader.load_book(\n",
    "            product=product,\n",
    "            times=[start_ts, end_ts],\n",
    "            depth=depth,\n",
    "            type=\"book_snapshot_25\",\n",
    "            lazy=False\n",
    "        )\n",
    "from dspy.features.book_features import add_mid,add_vwap\n",
    "df=add_mid(df)\n",
    "df.head()"
   ]
  },
  {
   "cell_type": "code",
   "execution_count": 2,
   "id": "ac4e577d-8687-4b93-b99c-9285b6d53743",
   "metadata": {},
   "outputs": [
    {
     "data": {
      "text/html": [
       "<div><style>\n",
       ".dataframe > thead > tr,\n",
       ".dataframe > tbody > tr {\n",
       "  text-align: right;\n",
       "  white-space: pre-wrap;\n",
       "}\n",
       "</style>\n",
       "<small>shape: (10, 24)</small><table border=\"1\" class=\"dataframe\"><thead><tr><th>ts</th><th>ts_local</th><th>asks[0].price</th><th>asks[0].amount</th><th>bids[0].price</th><th>bids[0].amount</th><th>asks[1].price</th><th>asks[1].amount</th><th>bids[1].price</th><th>bids[1].amount</th><th>asks[2].price</th><th>asks[2].amount</th><th>bids[2].price</th><th>bids[2].amount</th><th>asks[3].price</th><th>asks[3].amount</th><th>bids[3].price</th><th>bids[3].amount</th><th>asks[4].price</th><th>asks[4].amount</th><th>bids[4].price</th><th>bids[4].amount</th><th>mid</th><th>ts_dt</th></tr><tr><td>i64</td><td>i64</td><td>f64</td><td>f64</td><td>f64</td><td>f64</td><td>f64</td><td>f64</td><td>f64</td><td>f64</td><td>f64</td><td>f64</td><td>f64</td><td>f64</td><td>f64</td><td>f64</td><td>f64</td><td>f64</td><td>f64</td><td>f64</td><td>f64</td><td>f64</td><td>f64</td><td>datetime[ns]</td></tr></thead><tbody><tr><td>1743465600287000000</td><td>1743465601009280000</td><td>82517.5</td><td>5.192</td><td>82517.4</td><td>10.116</td><td>82517.6</td><td>0.79</td><td>82517.3</td><td>0.016</td><td>82517.9</td><td>0.002</td><td>82517.2</td><td>0.002</td><td>82518.3</td><td>0.002</td><td>82516.1</td><td>0.185</td><td>82518.4</td><td>0.002</td><td>82516.0</td><td>0.091</td><td>82517.45</td><td>2025-04-01 00:00:00.287</td></tr><tr><td>1743465602054000000</td><td>1743465602057050000</td><td>82517.5</td><td>5.192</td><td>82517.4</td><td>10.098</td><td>82517.6</td><td>0.79</td><td>82517.3</td><td>0.016</td><td>82517.9</td><td>0.002</td><td>82517.2</td><td>0.002</td><td>82518.3</td><td>0.002</td><td>82516.1</td><td>0.185</td><td>82518.4</td><td>0.002</td><td>82516.0</td><td>0.091</td><td>82517.45</td><td>2025-04-01 00:00:02.054</td></tr><tr><td>1743465604841000000</td><td>1743465604844153000</td><td>82517.5</td><td>5.174</td><td>82517.4</td><td>8.993</td><td>82517.6</td><td>0.79</td><td>82517.3</td><td>0.016</td><td>82517.9</td><td>0.002</td><td>82517.2</td><td>0.002</td><td>82518.3</td><td>0.002</td><td>82516.1</td><td>0.185</td><td>82518.4</td><td>0.002</td><td>82516.0</td><td>0.002</td><td>82517.45</td><td>2025-04-01 00:00:04.841</td></tr><tr><td>1743465604892000000</td><td>1743465604895330000</td><td>82517.5</td><td>5.485</td><td>82517.4</td><td>4.088</td><td>82517.6</td><td>0.79</td><td>82517.3</td><td>0.016</td><td>82517.9</td><td>0.002</td><td>82517.2</td><td>0.002</td><td>82518.3</td><td>0.002</td><td>82516.0</td><td>0.002</td><td>82518.4</td><td>0.002</td><td>82515.5</td><td>0.002</td><td>82517.45</td><td>2025-04-01 00:00:04.892</td></tr><tr><td>1743465604943000000</td><td>1743465604946217000</td><td>82525.8</td><td>0.159</td><td>82525.7</td><td>2.129</td><td>82525.9</td><td>0.005</td><td>82525.3</td><td>0.1</td><td>82526.4</td><td>1.585</td><td>82523.6</td><td>0.1</td><td>82526.5</td><td>0.029</td><td>82523.1</td><td>0.1</td><td>82526.6</td><td>0.004</td><td>82522.7</td><td>0.097</td><td>82525.75</td><td>2025-04-01 00:00:04.943</td></tr><tr><td>1743465604994000000</td><td>1743465604997436000</td><td>82525.8</td><td>0.148</td><td>82525.7</td><td>5.081</td><td>82525.9</td><td>0.005</td><td>82525.3</td><td>0.1</td><td>82526.4</td><td>1.585</td><td>82523.6</td><td>0.1</td><td>82526.5</td><td>0.002</td><td>82523.1</td><td>0.1</td><td>82526.6</td><td>0.004</td><td>82522.7</td><td>0.097</td><td>82525.75</td><td>2025-04-01 00:00:04.994</td></tr><tr><td>1743465605046000000</td><td>1743465605049051000</td><td>82526.4</td><td>0.92</td><td>82525.7</td><td>0.135</td><td>82526.5</td><td>0.002</td><td>82523.6</td><td>0.1</td><td>82526.6</td><td>0.004</td><td>82523.1</td><td>0.1</td><td>82526.7</td><td>0.002</td><td>82522.7</td><td>0.097</td><td>82526.8</td><td>0.002</td><td>82522.4</td><td>0.1</td><td>82526.05</td><td>2025-04-01 00:00:05.046</td></tr><tr><td>1743465605099000000</td><td>1743465605101874000</td><td>82526.4</td><td>0.065</td><td>82523.6</td><td>0.022</td><td>82526.5</td><td>0.002</td><td>82523.1</td><td>0.1</td><td>82526.6</td><td>0.004</td><td>82522.7</td><td>0.097</td><td>82526.7</td><td>0.002</td><td>82522.4</td><td>0.1</td><td>82526.8</td><td>0.002</td><td>82522.0</td><td>0.103</td><td>82525.0</td><td>2025-04-01 00:00:05.099</td></tr><tr><td>1743465605150000000</td><td>1743465605153810000</td><td>82481.5</td><td>0.2</td><td>82479.4</td><td>0.496</td><td>82484.0</td><td>0.05</td><td>82479.3</td><td>1.323</td><td>82508.5</td><td>0.05</td><td>82479.2</td><td>0.012</td><td>82509.2</td><td>0.06</td><td>82479.0</td><td>0.012</td><td>82510.4</td><td>0.07</td><td>82478.9</td><td>0.002</td><td>82480.45</td><td>2025-04-01 00:00:05.150</td></tr><tr><td>1743465605201000000</td><td>1743465605205113000</td><td>82481.5</td><td>4.708</td><td>82480.3</td><td>0.012</td><td>82482.3</td><td>0.05</td><td>82479.6</td><td>0.352</td><td>82484.0</td><td>0.05</td><td>82479.4</td><td>0.489</td><td>82507.6</td><td>0.158</td><td>82479.3</td><td>1.323</td><td>82508.5</td><td>0.208</td><td>82479.2</td><td>0.012</td><td>82480.9</td><td>2025-04-01 00:00:05.201</td></tr></tbody></table></div>"
      ],
      "text/plain": [
       "shape: (10, 24)\n",
       "┌───────────┬───────────┬───────────┬───────────┬───┬───────────┬───────────┬──────────┬───────────┐\n",
       "│ ts        ┆ ts_local  ┆ asks[0].p ┆ asks[0].a ┆ … ┆ bids[4].p ┆ bids[4].a ┆ mid      ┆ ts_dt     │\n",
       "│ ---       ┆ ---       ┆ rice      ┆ mount     ┆   ┆ rice      ┆ mount     ┆ ---      ┆ ---       │\n",
       "│ i64       ┆ i64       ┆ ---       ┆ ---       ┆   ┆ ---       ┆ ---       ┆ f64      ┆ datetime[ │\n",
       "│           ┆           ┆ f64       ┆ f64       ┆   ┆ f64       ┆ f64       ┆          ┆ ns]       │\n",
       "╞═══════════╪═══════════╪═══════════╪═══════════╪═══╪═══════════╪═══════════╪══════════╪═══════════╡\n",
       "│ 174346560 ┆ 174346560 ┆ 82517.5   ┆ 5.192     ┆ … ┆ 82516.0   ┆ 0.091     ┆ 82517.45 ┆ 2025-04-0 │\n",
       "│ 028700000 ┆ 100928000 ┆           ┆           ┆   ┆           ┆           ┆          ┆ 1 00:00:0 │\n",
       "│ 0         ┆ 0         ┆           ┆           ┆   ┆           ┆           ┆          ┆ 0.287     │\n",
       "│ 174346560 ┆ 174346560 ┆ 82517.5   ┆ 5.192     ┆ … ┆ 82516.0   ┆ 0.091     ┆ 82517.45 ┆ 2025-04-0 │\n",
       "│ 205400000 ┆ 205705000 ┆           ┆           ┆   ┆           ┆           ┆          ┆ 1 00:00:0 │\n",
       "│ 0         ┆ 0         ┆           ┆           ┆   ┆           ┆           ┆          ┆ 2.054     │\n",
       "│ 174346560 ┆ 174346560 ┆ 82517.5   ┆ 5.174     ┆ … ┆ 82516.0   ┆ 0.002     ┆ 82517.45 ┆ 2025-04-0 │\n",
       "│ 484100000 ┆ 484415300 ┆           ┆           ┆   ┆           ┆           ┆          ┆ 1 00:00:0 │\n",
       "│ 0         ┆ 0         ┆           ┆           ┆   ┆           ┆           ┆          ┆ 4.841     │\n",
       "│ 174346560 ┆ 174346560 ┆ 82517.5   ┆ 5.485     ┆ … ┆ 82515.5   ┆ 0.002     ┆ 82517.45 ┆ 2025-04-0 │\n",
       "│ 489200000 ┆ 489533000 ┆           ┆           ┆   ┆           ┆           ┆          ┆ 1 00:00:0 │\n",
       "│ 0         ┆ 0         ┆           ┆           ┆   ┆           ┆           ┆          ┆ 4.892     │\n",
       "│ 174346560 ┆ 174346560 ┆ 82525.8   ┆ 0.159     ┆ … ┆ 82522.7   ┆ 0.097     ┆ 82525.75 ┆ 2025-04-0 │\n",
       "│ 494300000 ┆ 494621700 ┆           ┆           ┆   ┆           ┆           ┆          ┆ 1 00:00:0 │\n",
       "│ 0         ┆ 0         ┆           ┆           ┆   ┆           ┆           ┆          ┆ 4.943     │\n",
       "│ 174346560 ┆ 174346560 ┆ 82525.8   ┆ 0.148     ┆ … ┆ 82522.7   ┆ 0.097     ┆ 82525.75 ┆ 2025-04-0 │\n",
       "│ 499400000 ┆ 499743600 ┆           ┆           ┆   ┆           ┆           ┆          ┆ 1 00:00:0 │\n",
       "│ 0         ┆ 0         ┆           ┆           ┆   ┆           ┆           ┆          ┆ 4.994     │\n",
       "│ 174346560 ┆ 174346560 ┆ 82526.4   ┆ 0.92      ┆ … ┆ 82522.4   ┆ 0.1       ┆ 82526.05 ┆ 2025-04-0 │\n",
       "│ 504600000 ┆ 504905100 ┆           ┆           ┆   ┆           ┆           ┆          ┆ 1 00:00:0 │\n",
       "│ 0         ┆ 0         ┆           ┆           ┆   ┆           ┆           ┆          ┆ 5.046     │\n",
       "│ 174346560 ┆ 174346560 ┆ 82526.4   ┆ 0.065     ┆ … ┆ 82522.0   ┆ 0.103     ┆ 82525.0  ┆ 2025-04-0 │\n",
       "│ 509900000 ┆ 510187400 ┆           ┆           ┆   ┆           ┆           ┆          ┆ 1 00:00:0 │\n",
       "│ 0         ┆ 0         ┆           ┆           ┆   ┆           ┆           ┆          ┆ 5.099     │\n",
       "│ 174346560 ┆ 174346560 ┆ 82481.5   ┆ 0.2       ┆ … ┆ 82478.9   ┆ 0.002     ┆ 82480.45 ┆ 2025-04-0 │\n",
       "│ 515000000 ┆ 515381000 ┆           ┆           ┆   ┆           ┆           ┆          ┆ 1 00:00:0 │\n",
       "│ 0         ┆ 0         ┆           ┆           ┆   ┆           ┆           ┆          ┆ 5.150     │\n",
       "│ 174346560 ┆ 174346560 ┆ 82481.5   ┆ 4.708     ┆ … ┆ 82479.2   ┆ 0.012     ┆ 82480.9  ┆ 2025-04-0 │\n",
       "│ 520100000 ┆ 520511300 ┆           ┆           ┆   ┆           ┆           ┆          ┆ 1 00:00:0 │\n",
       "│ 0         ┆ 0         ┆           ┆           ┆   ┆           ┆           ┆          ┆ 5.201     │\n",
       "└───────────┴───────────┴───────────┴───────────┴───┴───────────┴───────────┴──────────┴───────────┘"
      ]
     },
     "execution_count": 2,
     "metadata": {},
     "output_type": "execute_result"
    }
   ],
   "source": [
    "df = add_ts_dt(df)\n",
    "df.head(10)"
   ]
  },
  {
   "cell_type": "code",
   "execution_count": 3,
   "id": "21f4c57f-387c-4598-99d0-3dbe08aee9c6",
   "metadata": {},
   "outputs": [
    {
     "data": {
      "text/html": [
       "<div><style>\n",
       ".dataframe > thead > tr,\n",
       ".dataframe > tbody > tr {\n",
       "  text-align: right;\n",
       "  white-space: pre-wrap;\n",
       "}\n",
       "</style>\n",
       "<small>shape: (10, 25)</small><table border=\"1\" class=\"dataframe\"><thead><tr><th>ts</th><th>ts_local</th><th>asks[0].price</th><th>asks[0].amount</th><th>bids[0].price</th><th>bids[0].amount</th><th>asks[1].price</th><th>asks[1].amount</th><th>bids[1].price</th><th>bids[1].amount</th><th>asks[2].price</th><th>asks[2].amount</th><th>bids[2].price</th><th>bids[2].amount</th><th>asks[3].price</th><th>asks[3].amount</th><th>bids[3].price</th><th>bids[3].amount</th><th>asks[4].price</th><th>asks[4].amount</th><th>bids[4].price</th><th>bids[4].amount</th><th>mid</th><th>ts_dt</th><th>vwap_level1</th></tr><tr><td>i64</td><td>i64</td><td>f64</td><td>f64</td><td>f64</td><td>f64</td><td>f64</td><td>f64</td><td>f64</td><td>f64</td><td>f64</td><td>f64</td><td>f64</td><td>f64</td><td>f64</td><td>f64</td><td>f64</td><td>f64</td><td>f64</td><td>f64</td><td>f64</td><td>f64</td><td>f64</td><td>datetime[ns]</td><td>f64</td></tr></thead><tbody><tr><td>1743465600287000000</td><td>1743465601009280000</td><td>82517.5</td><td>5.192</td><td>82517.4</td><td>10.116</td><td>82517.6</td><td>0.79</td><td>82517.3</td><td>0.016</td><td>82517.9</td><td>0.002</td><td>82517.2</td><td>0.002</td><td>82518.3</td><td>0.002</td><td>82516.1</td><td>0.185</td><td>82518.4</td><td>0.002</td><td>82516.0</td><td>0.091</td><td>82517.45</td><td>2025-04-01 00:00:00.287</td><td>82517.433917</td></tr><tr><td>1743465602054000000</td><td>1743465602057050000</td><td>82517.5</td><td>5.192</td><td>82517.4</td><td>10.098</td><td>82517.6</td><td>0.79</td><td>82517.3</td><td>0.016</td><td>82517.9</td><td>0.002</td><td>82517.2</td><td>0.002</td><td>82518.3</td><td>0.002</td><td>82516.1</td><td>0.185</td><td>82518.4</td><td>0.002</td><td>82516.0</td><td>0.091</td><td>82517.45</td><td>2025-04-01 00:00:02.054</td><td>82517.433957</td></tr><tr><td>1743465604841000000</td><td>1743465604844153000</td><td>82517.5</td><td>5.174</td><td>82517.4</td><td>8.993</td><td>82517.6</td><td>0.79</td><td>82517.3</td><td>0.016</td><td>82517.9</td><td>0.002</td><td>82517.2</td><td>0.002</td><td>82518.3</td><td>0.002</td><td>82516.1</td><td>0.185</td><td>82518.4</td><td>0.002</td><td>82516.0</td><td>0.002</td><td>82517.45</td><td>2025-04-01 00:00:04.841</td><td>82517.436521</td></tr><tr><td>1743465604892000000</td><td>1743465604895330000</td><td>82517.5</td><td>5.485</td><td>82517.4</td><td>4.088</td><td>82517.6</td><td>0.79</td><td>82517.3</td><td>0.016</td><td>82517.9</td><td>0.002</td><td>82517.2</td><td>0.002</td><td>82518.3</td><td>0.002</td><td>82516.0</td><td>0.002</td><td>82518.4</td><td>0.002</td><td>82515.5</td><td>0.002</td><td>82517.45</td><td>2025-04-01 00:00:04.892</td><td>82517.457297</td></tr><tr><td>1743465604943000000</td><td>1743465604946217000</td><td>82525.8</td><td>0.159</td><td>82525.7</td><td>2.129</td><td>82525.9</td><td>0.005</td><td>82525.3</td><td>0.1</td><td>82526.4</td><td>1.585</td><td>82523.6</td><td>0.1</td><td>82526.5</td><td>0.029</td><td>82523.1</td><td>0.1</td><td>82526.6</td><td>0.004</td><td>82522.7</td><td>0.097</td><td>82525.75</td><td>2025-04-01 00:00:04.943</td><td>82525.706949</td></tr><tr><td>1743465604994000000</td><td>1743465604997436000</td><td>82525.8</td><td>0.148</td><td>82525.7</td><td>5.081</td><td>82525.9</td><td>0.005</td><td>82525.3</td><td>0.1</td><td>82526.4</td><td>1.585</td><td>82523.6</td><td>0.1</td><td>82526.5</td><td>0.002</td><td>82523.1</td><td>0.1</td><td>82526.6</td><td>0.004</td><td>82522.7</td><td>0.097</td><td>82525.75</td><td>2025-04-01 00:00:04.994</td><td>82525.70283</td></tr><tr><td>1743465605046000000</td><td>1743465605049051000</td><td>82526.4</td><td>0.92</td><td>82525.7</td><td>0.135</td><td>82526.5</td><td>0.002</td><td>82523.6</td><td>0.1</td><td>82526.6</td><td>0.004</td><td>82523.1</td><td>0.1</td><td>82526.7</td><td>0.002</td><td>82522.7</td><td>0.097</td><td>82526.8</td><td>0.002</td><td>82522.4</td><td>0.1</td><td>82526.05</td><td>2025-04-01 00:00:05.046</td><td>82526.310427</td></tr><tr><td>1743465605099000000</td><td>1743465605101874000</td><td>82526.4</td><td>0.065</td><td>82523.6</td><td>0.022</td><td>82526.5</td><td>0.002</td><td>82523.1</td><td>0.1</td><td>82526.6</td><td>0.004</td><td>82522.7</td><td>0.097</td><td>82526.7</td><td>0.002</td><td>82522.4</td><td>0.1</td><td>82526.8</td><td>0.002</td><td>82522.0</td><td>0.103</td><td>82525.0</td><td>2025-04-01 00:00:05.099</td><td>82525.691954</td></tr><tr><td>1743465605150000000</td><td>1743465605153810000</td><td>82481.5</td><td>0.2</td><td>82479.4</td><td>0.496</td><td>82484.0</td><td>0.05</td><td>82479.3</td><td>1.323</td><td>82508.5</td><td>0.05</td><td>82479.2</td><td>0.012</td><td>82509.2</td><td>0.06</td><td>82479.0</td><td>0.012</td><td>82510.4</td><td>0.07</td><td>82478.9</td><td>0.002</td><td>82480.45</td><td>2025-04-01 00:00:05.150</td><td>82480.003448</td></tr><tr><td>1743465605201000000</td><td>1743465605205113000</td><td>82481.5</td><td>4.708</td><td>82480.3</td><td>0.012</td><td>82482.3</td><td>0.05</td><td>82479.6</td><td>0.352</td><td>82484.0</td><td>0.05</td><td>82479.4</td><td>0.489</td><td>82507.6</td><td>0.158</td><td>82479.3</td><td>1.323</td><td>82508.5</td><td>0.208</td><td>82479.2</td><td>0.012</td><td>82480.9</td><td>2025-04-01 00:00:05.201</td><td>82481.496949</td></tr></tbody></table></div>"
      ],
      "text/plain": [
       "shape: (10, 25)\n",
       "┌───────────┬───────────┬───────────┬───────────┬───┬───────────┬──────────┬───────────┬───────────┐\n",
       "│ ts        ┆ ts_local  ┆ asks[0].p ┆ asks[0].a ┆ … ┆ bids[4].a ┆ mid      ┆ ts_dt     ┆ vwap_leve │\n",
       "│ ---       ┆ ---       ┆ rice      ┆ mount     ┆   ┆ mount     ┆ ---      ┆ ---       ┆ l1        │\n",
       "│ i64       ┆ i64       ┆ ---       ┆ ---       ┆   ┆ ---       ┆ f64      ┆ datetime[ ┆ ---       │\n",
       "│           ┆           ┆ f64       ┆ f64       ┆   ┆ f64       ┆          ┆ ns]       ┆ f64       │\n",
       "╞═══════════╪═══════════╪═══════════╪═══════════╪═══╪═══════════╪══════════╪═══════════╪═══════════╡\n",
       "│ 174346560 ┆ 174346560 ┆ 82517.5   ┆ 5.192     ┆ … ┆ 0.091     ┆ 82517.45 ┆ 2025-04-0 ┆ 82517.433 │\n",
       "│ 028700000 ┆ 100928000 ┆           ┆           ┆   ┆           ┆          ┆ 1 00:00:0 ┆ 917       │\n",
       "│ 0         ┆ 0         ┆           ┆           ┆   ┆           ┆          ┆ 0.287     ┆           │\n",
       "│ 174346560 ┆ 174346560 ┆ 82517.5   ┆ 5.192     ┆ … ┆ 0.091     ┆ 82517.45 ┆ 2025-04-0 ┆ 82517.433 │\n",
       "│ 205400000 ┆ 205705000 ┆           ┆           ┆   ┆           ┆          ┆ 1 00:00:0 ┆ 957       │\n",
       "│ 0         ┆ 0         ┆           ┆           ┆   ┆           ┆          ┆ 2.054     ┆           │\n",
       "│ 174346560 ┆ 174346560 ┆ 82517.5   ┆ 5.174     ┆ … ┆ 0.002     ┆ 82517.45 ┆ 2025-04-0 ┆ 82517.436 │\n",
       "│ 484100000 ┆ 484415300 ┆           ┆           ┆   ┆           ┆          ┆ 1 00:00:0 ┆ 521       │\n",
       "│ 0         ┆ 0         ┆           ┆           ┆   ┆           ┆          ┆ 4.841     ┆           │\n",
       "│ 174346560 ┆ 174346560 ┆ 82517.5   ┆ 5.485     ┆ … ┆ 0.002     ┆ 82517.45 ┆ 2025-04-0 ┆ 82517.457 │\n",
       "│ 489200000 ┆ 489533000 ┆           ┆           ┆   ┆           ┆          ┆ 1 00:00:0 ┆ 297       │\n",
       "│ 0         ┆ 0         ┆           ┆           ┆   ┆           ┆          ┆ 4.892     ┆           │\n",
       "│ 174346560 ┆ 174346560 ┆ 82525.8   ┆ 0.159     ┆ … ┆ 0.097     ┆ 82525.75 ┆ 2025-04-0 ┆ 82525.706 │\n",
       "│ 494300000 ┆ 494621700 ┆           ┆           ┆   ┆           ┆          ┆ 1 00:00:0 ┆ 949       │\n",
       "│ 0         ┆ 0         ┆           ┆           ┆   ┆           ┆          ┆ 4.943     ┆           │\n",
       "│ 174346560 ┆ 174346560 ┆ 82525.8   ┆ 0.148     ┆ … ┆ 0.097     ┆ 82525.75 ┆ 2025-04-0 ┆ 82525.702 │\n",
       "│ 499400000 ┆ 499743600 ┆           ┆           ┆   ┆           ┆          ┆ 1 00:00:0 ┆ 83        │\n",
       "│ 0         ┆ 0         ┆           ┆           ┆   ┆           ┆          ┆ 4.994     ┆           │\n",
       "│ 174346560 ┆ 174346560 ┆ 82526.4   ┆ 0.92      ┆ … ┆ 0.1       ┆ 82526.05 ┆ 2025-04-0 ┆ 82526.310 │\n",
       "│ 504600000 ┆ 504905100 ┆           ┆           ┆   ┆           ┆          ┆ 1 00:00:0 ┆ 427       │\n",
       "│ 0         ┆ 0         ┆           ┆           ┆   ┆           ┆          ┆ 5.046     ┆           │\n",
       "│ 174346560 ┆ 174346560 ┆ 82526.4   ┆ 0.065     ┆ … ┆ 0.103     ┆ 82525.0  ┆ 2025-04-0 ┆ 82525.691 │\n",
       "│ 509900000 ┆ 510187400 ┆           ┆           ┆   ┆           ┆          ┆ 1 00:00:0 ┆ 954       │\n",
       "│ 0         ┆ 0         ┆           ┆           ┆   ┆           ┆          ┆ 5.099     ┆           │\n",
       "│ 174346560 ┆ 174346560 ┆ 82481.5   ┆ 0.2       ┆ … ┆ 0.002     ┆ 82480.45 ┆ 2025-04-0 ┆ 82480.003 │\n",
       "│ 515000000 ┆ 515381000 ┆           ┆           ┆   ┆           ┆          ┆ 1 00:00:0 ┆ 448       │\n",
       "│ 0         ┆ 0         ┆           ┆           ┆   ┆           ┆          ┆ 5.150     ┆           │\n",
       "│ 174346560 ┆ 174346560 ┆ 82481.5   ┆ 4.708     ┆ … ┆ 0.012     ┆ 82480.9  ┆ 2025-04-0 ┆ 82481.496 │\n",
       "│ 520100000 ┆ 520511300 ┆           ┆           ┆   ┆           ┆          ┆ 1 00:00:0 ┆ 949       │\n",
       "│ 0         ┆ 0         ┆           ┆           ┆   ┆           ┆          ┆ 5.201     ┆           │\n",
       "└───────────┴───────────┴───────────┴───────────┴───┴───────────┴──────────┴───────────┴───────────┘"
      ]
     },
     "execution_count": 3,
     "metadata": {},
     "output_type": "execute_result"
    }
   ],
   "source": [
    "df=add_vwap(df,1,5)\n",
    "df.head(10)"
   ]
  },
  {
   "cell_type": "code",
   "execution_count": 44,
   "id": "44f0ac19-1535-479c-9f0c-f6137a37f451",
   "metadata": {},
   "outputs": [],
   "source": [
    "def add_ret_time(\n",
    "    df: pl.DataFrame,\n",
    "    delta: int = 50,\n",
    "    base_col: str = \"mid\",\n",
    "    levels: int = 1,\n",
    "    depth: int = 1,\n",
    "    time_col: str = \"ts_dt\",\n",
    "    products: list[str] | None = None\n",
    ") -> pl.DataFrame:\n",
    "    \n",
    "    if time_col not in df.columns:\n",
    "        df = add_ts_dt(df)\n",
    "\n",
    "    # Ensure time_col is datetime type\n",
    "    if df[time_col].dtype != pl.Datetime:\n",
    "        df = df.with_columns(pl.col(time_col).cast(pl.Datetime))\n",
    "\n",
    "\n",
    "    if base_col == \"mid\":\n",
    "        col_prefix = \"mid\"\n",
    "        if not any(col.startswith(col_prefix) for col in df.columns):\n",
    "            df = add_mid(df, products=products)\n",
    "    elif base_col == \"vwap\":\n",
    "        col_prefix = f\"vwap_level{levels}\"\n",
    "        if not any(col.startswith(col_prefix) for col in df.columns):\n",
    "            df = add_vwap(df, levels=levels, depth=depth, products=products)\n",
    "    else:\n",
    "        raise ValueError(\"base_col must be 'mid' or 'vwap'.\")\n",
    "\n",
    "    if products is None:\n",
    "        products = get_products(df, [col_prefix])\n",
    "\n",
    "    if products == []:\n",
    "        price_col = col_prefix\n",
    "        lagged_df = (\n",
    "            df.select([time_col, price_col])\n",
    "            .with_columns([(pl.col(time_col) + pl.duration(milliseconds=delta)).cast(pl.Datetime(\"ns\")).alias(time_col)])\n",
    "            .rename({price_col: f\"{price_col}_past\"})\n",
    "        )\n",
    "\n",
    "        df = df.join_asof(\n",
    "            lagged_df,\n",
    "            left_on=time_col,\n",
    "            right_on=time_col,\n",
    "            strategy=\"backward\",\n",
    "            tolerance=timedelta(milliseconds=1000000)\n",
    "         ).with_columns([\n",
    "            ((pl.col(price_col)/pl.col(f\"{price_col}_past\"))-1).alias(\n",
    "                f\"{col_prefix}_ret_{delta}ms\" if base_col == \"mid\" else f\"vwap_ret_{delta}ms_l{levels}\"\n",
    "            )\n",
    "        ])\n",
    "\n",
    "    else:\n",
    "        for product in products:\n",
    "            col = f\"{col_prefix}_{product}\"\n",
    "            lagged_df = df.select([time_col, col]).rename({col: f\"{col}_past\"})\n",
    "\n",
    "            df = df.join_asof(\n",
    "                lagged_df,\n",
    "                left_on=time_col,\n",
    "                right_on=time_col,\n",
    "                strategy=\"backward\",\n",
    "                tolerance=timedelta(milliseconds=1000000)\n",
    "            ).with_columns([\n",
    "                ((pl.col(col)/pl.col(f\"{col}_past\")) -1).alias(\n",
    "                    f\"{col_prefix}_ret_{delta}ms_{product}\" if base_col == \"mid\"\n",
    "                    else f\"vwap_ret_{delta}ms_l{levels}_{product}\"\n",
    "                )\n",
    "            ])\n",
    "\n",
    "    return df.drop_nulls()\n"
   ]
  },
  {
   "cell_type": "code",
   "execution_count": 4,
   "id": "0b93b5b6-2d76-4e7c-8b94-59f91131f821",
   "metadata": {},
   "outputs": [],
   "source": [
    "#new\n",
    "def add_ret_time(\n",
    "    df: pl.DataFrame,\n",
    "    delta: int = 50,  # in milliseconds\n",
    "    base_col: str = \"mid\",  # 'mid' or 'vwap'\n",
    "    levels: int = 1,\n",
    "    depth: int = 1,\n",
    "    time_col: str = \"ts_dt\",\n",
    "    products: list[str] | None = None\n",
    ") -> pl.DataFrame:\n",
    "\n",
    "    if time_col not in df.columns:\n",
    "        df = add_ts_dt(df)\n",
    "\n",
    "    # Ensure time_col is datetime[ns]\n",
    "    if df[time_col].dtype != pl.Datetime(\"ns\"):\n",
    "        df = df.with_columns(pl.col(time_col).cast(pl.Datetime(\"ns\")))\n",
    "\n",
    "    # Ensure price column exists\n",
    "    if base_col == \"mid\":\n",
    "        col_prefix = \"mid\"\n",
    "        if not any(col.startswith(col_prefix) for col in df.columns):\n",
    "            df = add_mid(df, products=products)\n",
    "    elif base_col == \"vwap\":\n",
    "        col_prefix = f\"vwap_level{levels}\"\n",
    "        if not any(col.startswith(col_prefix) for col in df.columns):\n",
    "            df = add_vwap(df, levels=levels, depth=depth, products=products)\n",
    "    else:\n",
    "        raise ValueError(\"base_col must be 'mid' or 'vwap'.\")\n",
    "\n",
    "    if products is None:\n",
    "        products = get_products(df, [col_prefix])\n",
    "\n",
    "    if products == []:\n",
    "        price_col = col_prefix\n",
    "        lagged_df = (\n",
    "            df.select([time_col, price_col])\n",
    "            .with_columns(\n",
    "                (pl.col(time_col) + pl.duration(milliseconds=delta))\n",
    "                .cast(pl.Datetime(\"ns\"))\n",
    "                .alias(time_col)\n",
    "            )\n",
    "            .rename({price_col: f\"{price_col}_past\"})\n",
    "        )\n",
    "        ret_col_name = (\n",
    "                f\"ret_{delta}ms_{col_prefix}\"\n",
    "            )\n",
    "        df = df.join_asof(\n",
    "            lagged_df,\n",
    "            left_on=time_col,\n",
    "            right_on=time_col,\n",
    "            strategy=\"backward\",\n",
    "            tolerance=timedelta(milliseconds=1000000)  # generous tolerance\n",
    "        ).with_columns([\n",
    "            ((pl.col(price_col) / pl.col(f\"{price_col}_past\")) - 1).alias(ret_col_name)\n",
    "        ]).drop([f\"{price_col}_past\"])\n",
    "\n",
    "    else:\n",
    "        for product in products:\n",
    "            col = f\"{col_prefix}_{product}\"\n",
    "            lagged_df = (\n",
    "                df.select([time_col, col])\n",
    "                .with_columns(\n",
    "                    (pl.col(time_col) + pl.duration(milliseconds=delta))\n",
    "                    .cast(pl.Datetime(\"ns\"))\n",
    "                    .alias(time_col)\n",
    "                )\n",
    "                .rename({col: f\"{col}_past\"})\n",
    "            )\n",
    "\n",
    "            ret_col_name = (\n",
    "                f\"ret_{delta}ms_{col_prefix}_{product}\"\n",
    "            )\n",
    "\n",
    "            df = df.join_asof(\n",
    "                lagged_df,\n",
    "                left_on=time_col,\n",
    "                right_on=time_col,\n",
    "                strategy=\"backward\",\n",
    "                tolerance=timedelta(milliseconds=1000000)\n",
    "            ).with_columns([\n",
    "                ((pl.col(col) / pl.col(f\"{col}_past\")) - 1).alias(ret_col_name)\n",
    "            ]).drop([f\"{col}_past\"])\n",
    "\n",
    "    return df.drop_nulls()"
   ]
  },
  {
   "cell_type": "code",
   "execution_count": 5,
   "id": "319cdedf-fe3a-4904-87a9-dbb9ff70b6d7",
   "metadata": {},
   "outputs": [
    {
     "data": {
      "text/html": [
       "<div><style>\n",
       ".dataframe > thead > tr,\n",
       ".dataframe > tbody > tr {\n",
       "  text-align: right;\n",
       "  white-space: pre-wrap;\n",
       "}\n",
       "</style>\n",
       "<small>shape: (10, 26)</small><table border=\"1\" class=\"dataframe\"><thead><tr><th>ts</th><th>ts_local</th><th>asks[0].price</th><th>asks[0].amount</th><th>bids[0].price</th><th>bids[0].amount</th><th>asks[1].price</th><th>asks[1].amount</th><th>bids[1].price</th><th>bids[1].amount</th><th>asks[2].price</th><th>asks[2].amount</th><th>bids[2].price</th><th>bids[2].amount</th><th>asks[3].price</th><th>asks[3].amount</th><th>bids[3].price</th><th>bids[3].amount</th><th>asks[4].price</th><th>asks[4].amount</th><th>bids[4].price</th><th>bids[4].amount</th><th>mid</th><th>ts_dt</th><th>vwap_level1</th><th>vwap_ret_200ms_l1</th></tr><tr><td>i64</td><td>i64</td><td>f64</td><td>f64</td><td>f64</td><td>f64</td><td>f64</td><td>f64</td><td>f64</td><td>f64</td><td>f64</td><td>f64</td><td>f64</td><td>f64</td><td>f64</td><td>f64</td><td>f64</td><td>f64</td><td>f64</td><td>f64</td><td>f64</td><td>f64</td><td>f64</td><td>datetime[ns]</td><td>f64</td><td>f64</td></tr></thead><tbody><tr><td>1743465602054000000</td><td>1743465602057050000</td><td>82517.5</td><td>5.192</td><td>82517.4</td><td>10.098</td><td>82517.6</td><td>0.79</td><td>82517.3</td><td>0.016</td><td>82517.9</td><td>0.002</td><td>82517.2</td><td>0.002</td><td>82518.3</td><td>0.002</td><td>82516.1</td><td>0.185</td><td>82518.4</td><td>0.002</td><td>82516.0</td><td>0.091</td><td>82517.45</td><td>2025-04-01 00:00:02.054</td><td>82517.433957</td><td>4.8388e-10</td></tr><tr><td>1743465604841000000</td><td>1743465604844153000</td><td>82517.5</td><td>5.174</td><td>82517.4</td><td>8.993</td><td>82517.6</td><td>0.79</td><td>82517.3</td><td>0.016</td><td>82517.9</td><td>0.002</td><td>82517.2</td><td>0.002</td><td>82518.3</td><td>0.002</td><td>82516.1</td><td>0.185</td><td>82518.4</td><td>0.002</td><td>82516.0</td><td>0.002</td><td>82517.45</td><td>2025-04-01 00:00:04.841</td><td>82517.436521</td><td>3.1080e-8</td></tr><tr><td>1743465604892000000</td><td>1743465604895330000</td><td>82517.5</td><td>5.485</td><td>82517.4</td><td>4.088</td><td>82517.6</td><td>0.79</td><td>82517.3</td><td>0.016</td><td>82517.9</td><td>0.002</td><td>82517.2</td><td>0.002</td><td>82518.3</td><td>0.002</td><td>82516.0</td><td>0.002</td><td>82518.4</td><td>0.002</td><td>82515.5</td><td>0.002</td><td>82517.45</td><td>2025-04-01 00:00:04.892</td><td>82517.457297</td><td>2.8285e-7</td></tr><tr><td>1743465604943000000</td><td>1743465604946217000</td><td>82525.8</td><td>0.159</td><td>82525.7</td><td>2.129</td><td>82525.9</td><td>0.005</td><td>82525.3</td><td>0.1</td><td>82526.4</td><td>1.585</td><td>82523.6</td><td>0.1</td><td>82526.5</td><td>0.029</td><td>82523.1</td><td>0.1</td><td>82526.6</td><td>0.004</td><td>82522.7</td><td>0.097</td><td>82525.75</td><td>2025-04-01 00:00:04.943</td><td>82525.706949</td><td>0.0001</td></tr><tr><td>1743465604994000000</td><td>1743465604997436000</td><td>82525.8</td><td>0.148</td><td>82525.7</td><td>5.081</td><td>82525.9</td><td>0.005</td><td>82525.3</td><td>0.1</td><td>82526.4</td><td>1.585</td><td>82523.6</td><td>0.1</td><td>82526.5</td><td>0.002</td><td>82523.1</td><td>0.1</td><td>82526.6</td><td>0.004</td><td>82522.7</td><td>0.097</td><td>82525.75</td><td>2025-04-01 00:00:04.994</td><td>82525.70283</td><td>0.0001</td></tr><tr><td>1743465605046000000</td><td>1743465605049051000</td><td>82526.4</td><td>0.92</td><td>82525.7</td><td>0.135</td><td>82526.5</td><td>0.002</td><td>82523.6</td><td>0.1</td><td>82526.6</td><td>0.004</td><td>82523.1</td><td>0.1</td><td>82526.7</td><td>0.002</td><td>82522.7</td><td>0.097</td><td>82526.8</td><td>0.002</td><td>82522.4</td><td>0.1</td><td>82526.05</td><td>2025-04-01 00:00:05.046</td><td>82526.310427</td><td>0.000108</td></tr><tr><td>1743465605099000000</td><td>1743465605101874000</td><td>82526.4</td><td>0.065</td><td>82523.6</td><td>0.022</td><td>82526.5</td><td>0.002</td><td>82523.1</td><td>0.1</td><td>82526.6</td><td>0.004</td><td>82522.7</td><td>0.097</td><td>82526.7</td><td>0.002</td><td>82522.4</td><td>0.1</td><td>82526.8</td><td>0.002</td><td>82522.0</td><td>0.103</td><td>82525.0</td><td>2025-04-01 00:00:05.099</td><td>82525.691954</td><td>0.0001</td></tr><tr><td>1743465605150000000</td><td>1743465605153810000</td><td>82481.5</td><td>0.2</td><td>82479.4</td><td>0.496</td><td>82484.0</td><td>0.05</td><td>82479.3</td><td>1.323</td><td>82508.5</td><td>0.05</td><td>82479.2</td><td>0.012</td><td>82509.2</td><td>0.06</td><td>82479.0</td><td>0.012</td><td>82510.4</td><td>0.07</td><td>82478.9</td><td>0.002</td><td>82480.45</td><td>2025-04-01 00:00:05.150</td><td>82480.003448</td><td>-0.000554</td></tr><tr><td>1743465605201000000</td><td>1743465605205113000</td><td>82481.5</td><td>4.708</td><td>82480.3</td><td>0.012</td><td>82482.3</td><td>0.05</td><td>82479.6</td><td>0.352</td><td>82484.0</td><td>0.05</td><td>82479.4</td><td>0.489</td><td>82507.6</td><td>0.158</td><td>82479.3</td><td>1.323</td><td>82508.5</td><td>0.208</td><td>82479.2</td><td>0.012</td><td>82480.9</td><td>2025-04-01 00:00:05.201</td><td>82481.496949</td><td>-0.000536</td></tr><tr><td>1743465605252000000</td><td>1743465605254936000</td><td>82481.5</td><td>6.204</td><td>82481.1</td><td>4.926</td><td>82482.3</td><td>0.05</td><td>82480.3</td><td>0.012</td><td>82484.0</td><td>0.05</td><td>82479.6</td><td>0.352</td><td>82507.6</td><td>0.158</td><td>82479.3</td><td>1.323</td><td>82508.5</td><td>0.208</td><td>82479.2</td><td>0.012</td><td>82481.3</td><td>2025-04-01 00:00:05.252</td><td>82481.322965</td><td>-0.000545</td></tr></tbody></table></div>"
      ],
      "text/plain": [
       "shape: (10, 26)\n",
       "┌───────────┬───────────┬───────────┬───────────┬───┬──────────┬───────────┬───────────┬───────────┐\n",
       "│ ts        ┆ ts_local  ┆ asks[0].p ┆ asks[0].a ┆ … ┆ mid      ┆ ts_dt     ┆ vwap_leve ┆ vwap_ret_ │\n",
       "│ ---       ┆ ---       ┆ rice      ┆ mount     ┆   ┆ ---      ┆ ---       ┆ l1        ┆ 200ms_l1  │\n",
       "│ i64       ┆ i64       ┆ ---       ┆ ---       ┆   ┆ f64      ┆ datetime[ ┆ ---       ┆ ---       │\n",
       "│           ┆           ┆ f64       ┆ f64       ┆   ┆          ┆ ns]       ┆ f64       ┆ f64       │\n",
       "╞═══════════╪═══════════╪═══════════╪═══════════╪═══╪══════════╪═══════════╪═══════════╪═══════════╡\n",
       "│ 174346560 ┆ 174346560 ┆ 82517.5   ┆ 5.192     ┆ … ┆ 82517.45 ┆ 2025-04-0 ┆ 82517.433 ┆ 4.8388e-1 │\n",
       "│ 205400000 ┆ 205705000 ┆           ┆           ┆   ┆          ┆ 1 00:00:0 ┆ 957       ┆ 0         │\n",
       "│ 0         ┆ 0         ┆           ┆           ┆   ┆          ┆ 2.054     ┆           ┆           │\n",
       "│ 174346560 ┆ 174346560 ┆ 82517.5   ┆ 5.174     ┆ … ┆ 82517.45 ┆ 2025-04-0 ┆ 82517.436 ┆ 3.1080e-8 │\n",
       "│ 484100000 ┆ 484415300 ┆           ┆           ┆   ┆          ┆ 1 00:00:0 ┆ 521       ┆           │\n",
       "│ 0         ┆ 0         ┆           ┆           ┆   ┆          ┆ 4.841     ┆           ┆           │\n",
       "│ 174346560 ┆ 174346560 ┆ 82517.5   ┆ 5.485     ┆ … ┆ 82517.45 ┆ 2025-04-0 ┆ 82517.457 ┆ 2.8285e-7 │\n",
       "│ 489200000 ┆ 489533000 ┆           ┆           ┆   ┆          ┆ 1 00:00:0 ┆ 297       ┆           │\n",
       "│ 0         ┆ 0         ┆           ┆           ┆   ┆          ┆ 4.892     ┆           ┆           │\n",
       "│ 174346560 ┆ 174346560 ┆ 82525.8   ┆ 0.159     ┆ … ┆ 82525.75 ┆ 2025-04-0 ┆ 82525.706 ┆ 0.0001    │\n",
       "│ 494300000 ┆ 494621700 ┆           ┆           ┆   ┆          ┆ 1 00:00:0 ┆ 949       ┆           │\n",
       "│ 0         ┆ 0         ┆           ┆           ┆   ┆          ┆ 4.943     ┆           ┆           │\n",
       "│ 174346560 ┆ 174346560 ┆ 82525.8   ┆ 0.148     ┆ … ┆ 82525.75 ┆ 2025-04-0 ┆ 82525.702 ┆ 0.0001    │\n",
       "│ 499400000 ┆ 499743600 ┆           ┆           ┆   ┆          ┆ 1 00:00:0 ┆ 83        ┆           │\n",
       "│ 0         ┆ 0         ┆           ┆           ┆   ┆          ┆ 4.994     ┆           ┆           │\n",
       "│ 174346560 ┆ 174346560 ┆ 82526.4   ┆ 0.92      ┆ … ┆ 82526.05 ┆ 2025-04-0 ┆ 82526.310 ┆ 0.000108  │\n",
       "│ 504600000 ┆ 504905100 ┆           ┆           ┆   ┆          ┆ 1 00:00:0 ┆ 427       ┆           │\n",
       "│ 0         ┆ 0         ┆           ┆           ┆   ┆          ┆ 5.046     ┆           ┆           │\n",
       "│ 174346560 ┆ 174346560 ┆ 82526.4   ┆ 0.065     ┆ … ┆ 82525.0  ┆ 2025-04-0 ┆ 82525.691 ┆ 0.0001    │\n",
       "│ 509900000 ┆ 510187400 ┆           ┆           ┆   ┆          ┆ 1 00:00:0 ┆ 954       ┆           │\n",
       "│ 0         ┆ 0         ┆           ┆           ┆   ┆          ┆ 5.099     ┆           ┆           │\n",
       "│ 174346560 ┆ 174346560 ┆ 82481.5   ┆ 0.2       ┆ … ┆ 82480.45 ┆ 2025-04-0 ┆ 82480.003 ┆ -0.000554 │\n",
       "│ 515000000 ┆ 515381000 ┆           ┆           ┆   ┆          ┆ 1 00:00:0 ┆ 448       ┆           │\n",
       "│ 0         ┆ 0         ┆           ┆           ┆   ┆          ┆ 5.150     ┆           ┆           │\n",
       "│ 174346560 ┆ 174346560 ┆ 82481.5   ┆ 4.708     ┆ … ┆ 82480.9  ┆ 2025-04-0 ┆ 82481.496 ┆ -0.000536 │\n",
       "│ 520100000 ┆ 520511300 ┆           ┆           ┆   ┆          ┆ 1 00:00:0 ┆ 949       ┆           │\n",
       "│ 0         ┆ 0         ┆           ┆           ┆   ┆          ┆ 5.201     ┆           ┆           │\n",
       "│ 174346560 ┆ 174346560 ┆ 82481.5   ┆ 6.204     ┆ … ┆ 82481.3  ┆ 2025-04-0 ┆ 82481.322 ┆ -0.000545 │\n",
       "│ 525200000 ┆ 525493600 ┆           ┆           ┆   ┆          ┆ 1 00:00:0 ┆ 965       ┆           │\n",
       "│ 0         ┆ 0         ┆           ┆           ┆   ┆          ┆ 5.252     ┆           ┆           │\n",
       "└───────────┴───────────┴───────────┴───────────┴───┴──────────┴───────────┴───────────┴───────────┘"
      ]
     },
     "execution_count": 5,
     "metadata": {},
     "output_type": "execute_result"
    }
   ],
   "source": [
    "df = add_ret_time(df,200,'vwap',1,5)\n",
    "df.head(10)"
   ]
  },
  {
   "cell_type": "code",
   "execution_count": 15,
   "id": "796c397a-4554-4ee3-b85e-67e0274cdb5c",
   "metadata": {},
   "outputs": [
    {
     "data": {
      "text/plain": [
       "np.float64(82519.11)"
      ]
     },
     "execution_count": 15,
     "metadata": {},
     "output_type": "execute_result"
    }
   ],
   "source": [
    "import numpy as np\n",
    "arr=[82517.45,82517.45,82517.45,82517.45,82525.75]\n",
    "arr=np.array(arr)\n",
    "(82525.75-np.mean(arr))/np.std(arr,ddof=1)\n",
    "np.std(arr,ddof=1)\n",
    "np.mean(arr)"
   ]
  },
  {
   "cell_type": "code",
   "execution_count": null,
   "id": "8dca638b-bdae-4b78-add8-2d5a5c77aeb6",
   "metadata": {},
   "outputs": [],
   "source": []
  },
  {
   "cell_type": "code",
   "execution_count": 21,
   "id": "6941c78d-aebd-4ad5-bb85-62d2fbdd0f2c",
   "metadata": {},
   "outputs": [
    {
     "data": {
      "text/html": [
       "<div><style>\n",
       ".dataframe > thead > tr,\n",
       ".dataframe > tbody > tr {\n",
       "  text-align: right;\n",
       "  white-space: pre-wrap;\n",
       "}\n",
       "</style>\n",
       "<small>shape: (2_404_148, 4)</small><table border=\"1\" class=\"dataframe\"><thead><tr><th>ts_dt</th><th>mid</th><th>join_key</th><th>mid_past</th></tr><tr><td>datetime[ns]</td><td>f64</td><td>datetime[μs]</td><td>f64</td></tr></thead><tbody><tr><td>2025-04-01 00:00:00.287</td><td>82517.45</td><td>2025-03-31 23:59:56.287</td><td>82517.45</td></tr><tr><td>2025-04-01 00:00:02.054</td><td>82517.45</td><td>2025-03-31 23:59:58.054</td><td>82517.45</td></tr><tr><td>2025-04-01 00:00:04.841</td><td>82517.45</td><td>2025-04-01 00:00:00.841</td><td>82517.45</td></tr><tr><td>2025-04-01 00:00:04.892</td><td>82517.45</td><td>2025-04-01 00:00:00.892</td><td>82517.45</td></tr><tr><td>2025-04-01 00:00:04.943</td><td>82525.75</td><td>2025-04-01 00:00:00.943</td><td>82525.75</td></tr><tr><td>&hellip;</td><td>&hellip;</td><td>&hellip;</td><td>&hellip;</td></tr><tr><td>2025-04-02 12:59:58.746</td><td>85008.35</td><td>2025-04-02 12:59:54.746</td><td>85008.35</td></tr><tr><td>2025-04-02 12:59:58.799</td><td>85008.35</td><td>2025-04-02 12:59:54.799</td><td>85008.35</td></tr><tr><td>2025-04-02 12:59:58.852</td><td>85008.85</td><td>2025-04-02 12:59:54.852</td><td>85008.85</td></tr><tr><td>2025-04-02 12:59:58.905</td><td>85008.85</td><td>2025-04-02 12:59:54.905</td><td>85008.85</td></tr><tr><td>2025-04-02 12:59:58.957</td><td>85008.85</td><td>2025-04-02 12:59:54.957</td><td>85008.85</td></tr></tbody></table></div>"
      ],
      "text/plain": [
       "shape: (2_404_148, 4)\n",
       "┌─────────────────────────┬──────────┬─────────────────────────┬──────────┐\n",
       "│ ts_dt                   ┆ mid      ┆ join_key                ┆ mid_past │\n",
       "│ ---                     ┆ ---      ┆ ---                     ┆ ---      │\n",
       "│ datetime[ns]            ┆ f64      ┆ datetime[μs]            ┆ f64      │\n",
       "╞═════════════════════════╪══════════╪═════════════════════════╪══════════╡\n",
       "│ 2025-04-01 00:00:00.287 ┆ 82517.45 ┆ 2025-03-31 23:59:56.287 ┆ 82517.45 │\n",
       "│ 2025-04-01 00:00:02.054 ┆ 82517.45 ┆ 2025-03-31 23:59:58.054 ┆ 82517.45 │\n",
       "│ 2025-04-01 00:00:04.841 ┆ 82517.45 ┆ 2025-04-01 00:00:00.841 ┆ 82517.45 │\n",
       "│ 2025-04-01 00:00:04.892 ┆ 82517.45 ┆ 2025-04-01 00:00:00.892 ┆ 82517.45 │\n",
       "│ 2025-04-01 00:00:04.943 ┆ 82525.75 ┆ 2025-04-01 00:00:00.943 ┆ 82525.75 │\n",
       "│ …                       ┆ …        ┆ …                       ┆ …        │\n",
       "│ 2025-04-02 12:59:58.746 ┆ 85008.35 ┆ 2025-04-02 12:59:54.746 ┆ 85008.35 │\n",
       "│ 2025-04-02 12:59:58.799 ┆ 85008.35 ┆ 2025-04-02 12:59:54.799 ┆ 85008.35 │\n",
       "│ 2025-04-02 12:59:58.852 ┆ 85008.85 ┆ 2025-04-02 12:59:54.852 ┆ 85008.85 │\n",
       "│ 2025-04-02 12:59:58.905 ┆ 85008.85 ┆ 2025-04-02 12:59:54.905 ┆ 85008.85 │\n",
       "│ 2025-04-02 12:59:58.957 ┆ 85008.85 ┆ 2025-04-02 12:59:54.957 ┆ 85008.85 │\n",
       "└─────────────────────────┴──────────┴─────────────────────────┴──────────┘"
      ]
     },
     "execution_count": 21,
     "metadata": {},
     "output_type": "execute_result"
    }
   ],
   "source": [
    "col_prefix = 'mid'\n",
    "time_col=\"ts_dt\"\n",
    "ret_col='retm'\n",
    "vol_col='tickvoltest'\n",
    "delta = 4000\n",
    "lagged_df =df.select([time_col, col_prefix]).with_columns([\n",
    "            (pl.col(time_col) + pl.duration(milliseconds=-delta)).alias(\"join_key\"),\n",
    "            pl.col(col_prefix).alias(f\"{col_prefix}_past\")])\n",
    "lagged_df"
   ]
  },
  {
   "cell_type": "code",
   "execution_count": 22,
   "id": "d349e137-d3fb-4fc4-8c15-f527214b15d0",
   "metadata": {},
   "outputs": [
    {
     "ename": "SchemaError",
     "evalue": "datatypes of join keys don't match - `ts_dt`: datetime[ns] on left does not match `join_key`: datetime[μs] on right",
     "output_type": "error",
     "traceback": [
      "\u001b[0;31m---------------------------------------------------------------------------\u001b[0m",
      "\u001b[0;31mSchemaError\u001b[0m                               Traceback (most recent call last)",
      "Cell \u001b[0;32mIn[22], line 1\u001b[0m\n\u001b[0;32m----> 1\u001b[0m \u001b[43mdf\u001b[49m\u001b[38;5;241;43m.\u001b[39;49m\u001b[43mjoin\u001b[49m\u001b[43m(\u001b[49m\u001b[43mlagged_df\u001b[49m\u001b[43m,\u001b[49m\u001b[43m \u001b[49m\u001b[43mleft_on\u001b[49m\u001b[38;5;241;43m=\u001b[39;49m\u001b[43mtime_col\u001b[49m\u001b[43m,\u001b[49m\u001b[43m \u001b[49m\u001b[43mright_on\u001b[49m\u001b[38;5;241;43m=\u001b[39;49m\u001b[38;5;124;43m\"\u001b[39;49m\u001b[38;5;124;43mjoin_key\u001b[39;49m\u001b[38;5;124;43m\"\u001b[39;49m\u001b[43m,\u001b[49m\u001b[43m \u001b[49m\u001b[43mhow\u001b[49m\u001b[38;5;241;43m=\u001b[39;49m\u001b[38;5;124;43m\"\u001b[39;49m\u001b[38;5;124;43mleft\u001b[39;49m\u001b[38;5;124;43m\"\u001b[39;49m\u001b[43m)\u001b[49m\n",
      "File \u001b[0;32m~/Academics/dissertation/Code/.venv/lib/python3.13/site-packages/polars/_utils/deprecation.py:128\u001b[0m, in \u001b[0;36mdeprecate_renamed_parameter.<locals>.decorate.<locals>.wrapper\u001b[0;34m(*args, **kwargs)\u001b[0m\n\u001b[1;32m    123\u001b[0m \u001b[38;5;129m@wraps\u001b[39m(function)\n\u001b[1;32m    124\u001b[0m \u001b[38;5;28;01mdef\u001b[39;00m\u001b[38;5;250m \u001b[39m\u001b[38;5;21mwrapper\u001b[39m(\u001b[38;5;241m*\u001b[39margs: P\u001b[38;5;241m.\u001b[39margs, \u001b[38;5;241m*\u001b[39m\u001b[38;5;241m*\u001b[39mkwargs: P\u001b[38;5;241m.\u001b[39mkwargs) \u001b[38;5;241m-\u001b[39m\u001b[38;5;241m>\u001b[39m T:\n\u001b[1;32m    125\u001b[0m     _rename_keyword_argument(\n\u001b[1;32m    126\u001b[0m         old_name, new_name, kwargs, function\u001b[38;5;241m.\u001b[39m\u001b[38;5;18m__qualname__\u001b[39m, version\n\u001b[1;32m    127\u001b[0m     )\n\u001b[0;32m--> 128\u001b[0m     \u001b[38;5;28;01mreturn\u001b[39;00m \u001b[43mfunction\u001b[49m\u001b[43m(\u001b[49m\u001b[38;5;241;43m*\u001b[39;49m\u001b[43margs\u001b[49m\u001b[43m,\u001b[49m\u001b[43m \u001b[49m\u001b[38;5;241;43m*\u001b[39;49m\u001b[38;5;241;43m*\u001b[39;49m\u001b[43mkwargs\u001b[49m\u001b[43m)\u001b[49m\n",
      "File \u001b[0;32m~/Academics/dissertation/Code/.venv/lib/python3.13/site-packages/polars/dataframe/frame.py:7921\u001b[0m, in \u001b[0;36mDataFrame.join\u001b[0;34m(self, other, on, how, left_on, right_on, suffix, validate, nulls_equal, coalesce, maintain_order)\u001b[0m\n\u001b[1;32m   7903\u001b[0m require_same_type(\u001b[38;5;28mself\u001b[39m, other)\n\u001b[1;32m   7905\u001b[0m \u001b[38;5;28;01mfrom\u001b[39;00m\u001b[38;5;250m \u001b[39m\u001b[38;5;21;01mpolars\u001b[39;00m\u001b[38;5;21;01m.\u001b[39;00m\u001b[38;5;21;01mlazyframe\u001b[39;00m\u001b[38;5;21;01m.\u001b[39;00m\u001b[38;5;21;01mopt_flags\u001b[39;00m\u001b[38;5;250m \u001b[39m\u001b[38;5;28;01mimport\u001b[39;00m QueryOptFlags\n\u001b[1;32m   7907\u001b[0m \u001b[38;5;28;01mreturn\u001b[39;00m (\n\u001b[1;32m   7908\u001b[0m     \u001b[38;5;28;43mself\u001b[39;49m\u001b[38;5;241;43m.\u001b[39;49m\u001b[43mlazy\u001b[49m\u001b[43m(\u001b[49m\u001b[43m)\u001b[49m\n\u001b[1;32m   7909\u001b[0m \u001b[43m    \u001b[49m\u001b[38;5;241;43m.\u001b[39;49m\u001b[43mjoin\u001b[49m\u001b[43m(\u001b[49m\n\u001b[1;32m   7910\u001b[0m \u001b[43m        \u001b[49m\u001b[43mother\u001b[49m\u001b[38;5;241;43m=\u001b[39;49m\u001b[43mother\u001b[49m\u001b[38;5;241;43m.\u001b[39;49m\u001b[43mlazy\u001b[49m\u001b[43m(\u001b[49m\u001b[43m)\u001b[49m\u001b[43m,\u001b[49m\n\u001b[1;32m   7911\u001b[0m \u001b[43m        \u001b[49m\u001b[43mleft_on\u001b[49m\u001b[38;5;241;43m=\u001b[39;49m\u001b[43mleft_on\u001b[49m\u001b[43m,\u001b[49m\n\u001b[1;32m   7912\u001b[0m \u001b[43m        \u001b[49m\u001b[43mright_on\u001b[49m\u001b[38;5;241;43m=\u001b[39;49m\u001b[43mright_on\u001b[49m\u001b[43m,\u001b[49m\n\u001b[1;32m   7913\u001b[0m \u001b[43m        \u001b[49m\u001b[43mon\u001b[49m\u001b[38;5;241;43m=\u001b[39;49m\u001b[43mon\u001b[49m\u001b[43m,\u001b[49m\n\u001b[1;32m   7914\u001b[0m \u001b[43m        \u001b[49m\u001b[43mhow\u001b[49m\u001b[38;5;241;43m=\u001b[39;49m\u001b[43mhow\u001b[49m\u001b[43m,\u001b[49m\n\u001b[1;32m   7915\u001b[0m \u001b[43m        \u001b[49m\u001b[43msuffix\u001b[49m\u001b[38;5;241;43m=\u001b[39;49m\u001b[43msuffix\u001b[49m\u001b[43m,\u001b[49m\n\u001b[1;32m   7916\u001b[0m \u001b[43m        \u001b[49m\u001b[43mvalidate\u001b[49m\u001b[38;5;241;43m=\u001b[39;49m\u001b[43mvalidate\u001b[49m\u001b[43m,\u001b[49m\n\u001b[1;32m   7917\u001b[0m \u001b[43m        \u001b[49m\u001b[43mnulls_equal\u001b[49m\u001b[38;5;241;43m=\u001b[39;49m\u001b[43mnulls_equal\u001b[49m\u001b[43m,\u001b[49m\n\u001b[1;32m   7918\u001b[0m \u001b[43m        \u001b[49m\u001b[43mcoalesce\u001b[49m\u001b[38;5;241;43m=\u001b[39;49m\u001b[43mcoalesce\u001b[49m\u001b[43m,\u001b[49m\n\u001b[1;32m   7919\u001b[0m \u001b[43m        \u001b[49m\u001b[43mmaintain_order\u001b[49m\u001b[38;5;241;43m=\u001b[39;49m\u001b[43mmaintain_order\u001b[49m\u001b[43m,\u001b[49m\n\u001b[1;32m   7920\u001b[0m \u001b[43m    \u001b[49m\u001b[43m)\u001b[49m\n\u001b[0;32m-> 7921\u001b[0m \u001b[43m    \u001b[49m\u001b[38;5;241;43m.\u001b[39;49m\u001b[43mcollect\u001b[49m\u001b[43m(\u001b[49m\u001b[43moptimizations\u001b[49m\u001b[38;5;241;43m=\u001b[39;49m\u001b[43mQueryOptFlags\u001b[49m\u001b[38;5;241;43m.\u001b[39;49m\u001b[43m_eager\u001b[49m\u001b[43m(\u001b[49m\u001b[43m)\u001b[49m\u001b[43m)\u001b[49m\n\u001b[1;32m   7922\u001b[0m )\n",
      "File \u001b[0;32m~/Academics/dissertation/Code/.venv/lib/python3.13/site-packages/polars/_utils/deprecation.py:97\u001b[0m, in \u001b[0;36mdeprecate_streaming_parameter.<locals>.decorate.<locals>.wrapper\u001b[0;34m(*args, **kwargs)\u001b[0m\n\u001b[1;32m     93\u001b[0m         kwargs[\u001b[38;5;124m\"\u001b[39m\u001b[38;5;124mengine\u001b[39m\u001b[38;5;124m\"\u001b[39m] \u001b[38;5;241m=\u001b[39m \u001b[38;5;124m\"\u001b[39m\u001b[38;5;124min-memory\u001b[39m\u001b[38;5;124m\"\u001b[39m\n\u001b[1;32m     95\u001b[0m     \u001b[38;5;28;01mdel\u001b[39;00m kwargs[\u001b[38;5;124m\"\u001b[39m\u001b[38;5;124mstreaming\u001b[39m\u001b[38;5;124m\"\u001b[39m]\n\u001b[0;32m---> 97\u001b[0m \u001b[38;5;28;01mreturn\u001b[39;00m \u001b[43mfunction\u001b[49m\u001b[43m(\u001b[49m\u001b[38;5;241;43m*\u001b[39;49m\u001b[43margs\u001b[49m\u001b[43m,\u001b[49m\u001b[43m \u001b[49m\u001b[38;5;241;43m*\u001b[39;49m\u001b[38;5;241;43m*\u001b[39;49m\u001b[43mkwargs\u001b[49m\u001b[43m)\u001b[49m\n",
      "File \u001b[0;32m~/Academics/dissertation/Code/.venv/lib/python3.13/site-packages/polars/lazyframe/opt_flags.py:330\u001b[0m, in \u001b[0;36mforward_old_opt_flags.<locals>.decorate.<locals>.wrapper\u001b[0;34m(*args, **kwargs)\u001b[0m\n\u001b[1;32m    327\u001b[0m         optflags \u001b[38;5;241m=\u001b[39m cb(optflags, kwargs\u001b[38;5;241m.\u001b[39mpop(key))  \u001b[38;5;66;03m# type: ignore[no-untyped-call,unused-ignore]\u001b[39;00m\n\u001b[1;32m    329\u001b[0m kwargs[\u001b[38;5;124m\"\u001b[39m\u001b[38;5;124moptimizations\u001b[39m\u001b[38;5;124m\"\u001b[39m] \u001b[38;5;241m=\u001b[39m optflags\n\u001b[0;32m--> 330\u001b[0m \u001b[38;5;28;01mreturn\u001b[39;00m \u001b[43mfunction\u001b[49m\u001b[43m(\u001b[49m\u001b[38;5;241;43m*\u001b[39;49m\u001b[43margs\u001b[49m\u001b[43m,\u001b[49m\u001b[43m \u001b[49m\u001b[38;5;241;43m*\u001b[39;49m\u001b[38;5;241;43m*\u001b[39;49m\u001b[43mkwargs\u001b[49m\u001b[43m)\u001b[49m\n",
      "File \u001b[0;32m~/Academics/dissertation/Code/.venv/lib/python3.13/site-packages/polars/lazyframe/frame.py:2332\u001b[0m, in \u001b[0;36mLazyFrame.collect\u001b[0;34m(self, type_coercion, predicate_pushdown, projection_pushdown, simplify_expression, slice_pushdown, comm_subplan_elim, comm_subexpr_elim, cluster_with_columns, collapse_joins, no_optimization, engine, background, optimizations, **_kwargs)\u001b[0m\n\u001b[1;32m   2330\u001b[0m \u001b[38;5;66;03m# Only for testing purposes\u001b[39;00m\n\u001b[1;32m   2331\u001b[0m callback \u001b[38;5;241m=\u001b[39m _kwargs\u001b[38;5;241m.\u001b[39mget(\u001b[38;5;124m\"\u001b[39m\u001b[38;5;124mpost_opt_callback\u001b[39m\u001b[38;5;124m\"\u001b[39m, callback)\n\u001b[0;32m-> 2332\u001b[0m \u001b[38;5;28;01mreturn\u001b[39;00m wrap_df(\u001b[43mldf\u001b[49m\u001b[38;5;241;43m.\u001b[39;49m\u001b[43mcollect\u001b[49m\u001b[43m(\u001b[49m\u001b[43mengine\u001b[49m\u001b[43m,\u001b[49m\u001b[43m \u001b[49m\u001b[43mcallback\u001b[49m\u001b[43m)\u001b[49m)\n",
      "\u001b[0;31mSchemaError\u001b[0m: datatypes of join keys don't match - `ts_dt`: datetime[ns] on left does not match `join_key`: datetime[μs] on right"
     ]
    }
   ],
   "source": [
    "df.join(lagged_df, left_on=time_col, right_on=\"join_key\", how=\"left\")"
   ]
  },
  {
   "cell_type": "code",
   "execution_count": null,
   "id": "90d6fb0c-a87f-436d-8cb6-052ad447ed9b",
   "metadata": {},
   "outputs": [],
   "source": []
  },
  {
   "cell_type": "code",
   "execution_count": 12,
   "id": "f5f7fac0-c14d-4436-b31d-fb3d215fc482",
   "metadata": {},
   "outputs": [
    {
     "data": {
      "text/plain": [
       "7.312606244954507e-06"
      ]
     },
     "execution_count": 12,
     "metadata": {},
     "output_type": "execute_result"
    }
   ],
   "source": [
    "c=82526.310427\n",
    "p=82525.706949\n",
    "(c-p)/p"
   ]
  },
  {
   "cell_type": "code",
   "execution_count": 8,
   "id": "76730ba6-d160-4655-8179-f4123e1c3a10",
   "metadata": {},
   "outputs": [
    {
     "data": {
      "text/plain": [
       "0.2575400273054486"
      ]
     },
     "execution_count": 8,
     "metadata": {},
     "output_type": "execute_result"
    }
   ],
   "source": [
    "aq=5.192+0.79\n",
    "bq=10.116+0.016\t\n",
    "(bq-aq)/(bq+aq)"
   ]
  },
  {
   "cell_type": "code",
   "execution_count": 5,
   "id": "02a1781c-a8f9-4c3e-b455-a7360ffbafc5",
   "metadata": {},
   "outputs": [
    {
     "data": {
      "text/plain": [
       "82517.46608309382"
      ]
     },
     "execution_count": 5,
     "metadata": {},
     "output_type": "execute_result"
    }
   ],
   "source": [
    "aq=5.192\n",
    "ap=82517.5\n",
    "bq=10.116\n",
    "bp=82517.4\n",
    "(bp*aq+ap*bq)/(bq+aq)"
   ]
  },
  {
   "cell_type": "code",
   "execution_count": 6,
   "id": "a9b1e72c-2fc5-4d4b-90bd-224d88a4e1a8",
   "metadata": {},
   "outputs": [
    {
     "data": {
      "text/plain": [
       "82517.43391690619"
      ]
     },
     "execution_count": 6,
     "metadata": {},
     "output_type": "execute_result"
    }
   ],
   "source": [
    "(bp*bq+ap*aq)/(bq+aq)"
   ]
  },
  {
   "cell_type": "code",
   "execution_count": null,
   "id": "127eb4c2-9c33-42f6-bf2f-f0d74409f80e",
   "metadata": {},
   "outputs": [],
   "source": []
  }
 ],
 "metadata": {
  "kernelspec": {
   "display_name": "Python (myenv)",
   "language": "python",
   "name": "myenv"
  },
  "language_info": {
   "codemirror_mode": {
    "name": "ipython",
    "version": 3
   },
   "file_extension": ".py",
   "mimetype": "text/x-python",
   "name": "python",
   "nbconvert_exporter": "python",
   "pygments_lexer": "ipython3",
   "version": "3.13.2"
  }
 },
 "nbformat": 4,
 "nbformat_minor": 5
}
