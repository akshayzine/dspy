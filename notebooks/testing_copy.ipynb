{
 "cells": [
  {
   "cell_type": "code",
   "execution_count": 1,
   "id": "eca68fa3",
   "metadata": {},
   "outputs": [
    {
     "name": "stdout",
     "output_type": "stream",
     "text": [
      "dataframe from: 2025-04-01 00:00:00 to: 2025-04-01 00:00:30\n"
     ]
    }
   ],
   "source": [
    "import json\n",
    "import sys\n",
    "from datetime import datetime, timedelta\n",
    "from pathlib import Path\n",
    "import polars as pl\n",
    "\n",
    "\n",
    "project_root = Path().resolve().parent\n",
    "sys.path.insert(0, str(project_root / \"src\"))\n",
    "\n",
    "from dspy.hdb import get_dataset\n",
    "from dspy.sim.market_simulator import MarketSimulator\n",
    "from dspy.utils import to_ns, ts_to_str\n",
    "from dspy.features.feature_utils import apply_batch_features, extract_features , flatten_features\n",
    "from dspy.agents.agent_utils import get_agent\n",
    "from dspy.features.utils import get_products\n",
    "from dspy.utils import add_ts_dt\n",
    "\n",
    "# ---------- Load run config file ----------\n",
    "\n",
    "def load_config(path: Path) -> dict:\n",
    "    with open(path, \"r\") as f:\n",
    "        return json.load(f)\n",
    "\n",
    "config_path = project_root / \"run/run_config.json\"\n",
    "config = load_config(config_path)\n",
    "\n",
    "dataset_name     = config[\"dataset\"]\n",
    "product          = config[\"product\"]\n",
    "depth            = config[\"depth\"]\n",
    "latency_ns       = config[\"latency_micros\"] * 1_000\n",
    "max_inventory    = config[\"max_inventory\"]\n",
    "inv_penalty      = config[\"inventory_penalty\"]\n",
    "initial_cash     = config[\"initial_cash\"]\n",
    "agent_config     = config[\"agent\"]\n",
    "intervals        = config[\"intervals\"]\n",
    "min_order_size   = config[\"min_order_size\"]\n",
    "tick_size        = config[\"tick_size\"]\n",
    "initial_cash     = config[\"initial_cash\"]\n",
    "cost_in_bps      = config[\"cost_in_bps\"]\n",
    "fixed_cost       = config[\"fixed_cost\"]\n",
    "simulator_mode   = config[\"simulator_mode\"]\n",
    "\n",
    "loader = get_dataset(dataset_name)\n",
    "all_books, all_ts = [], []\n",
    "feature_path = project_root / \"run/features.json\"\n",
    "feature_config = load_config(feature_path)\n",
    "inventory_feature_flag = \"inventory\" in feature_config.keys()\n",
    "\n",
    "#loaddataframe\n",
    "for interval in intervals:\n",
    "        start_str = interval[\"start\"]\n",
    "        end_str   = interval[\"end\"]\n",
    "        print('dataframe from:', start_str,'to:',end_str)\n",
    "\n",
    "        start_ts = datetime.strptime(interval[\"start\"], \"%Y-%m-%d %H:%M:%S\").strftime(\"%y%m%d.%H%M%S\")\n",
    "        end_ts   = datetime.strptime(interval[\"end\"],   \"%Y-%m-%d %H:%M:%S\").strftime(\"%y%m%d.%H%M%S\")\n",
    "\n",
    "        df = loader.load_book(\n",
    "            product=product,\n",
    "            times=[start_ts, end_ts],\n",
    "            depth=depth,\n",
    "            type=\"book_snapshot_25\",\n",
    "            lazy=False\n",
    "        )\n",
    "# from dspy.features.book_features import add_mid,add_vwap\n",
    "# df=add_mid(df)\n",
    "# df.head()"
   ]
  },
  {
   "cell_type": "code",
   "execution_count": 2,
   "id": "ac4e577d-8687-4b93-b99c-9285b6d53743",
   "metadata": {},
   "outputs": [
    {
     "data": {
      "text/html": [
       "<div><style>\n",
       ".dataframe > thead > tr,\n",
       ".dataframe > tbody > tr {\n",
       "  text-align: right;\n",
       "  white-space: pre-wrap;\n",
       "}\n",
       "</style>\n",
       "<small>shape: (206, 43)</small><table border=\"1\" class=\"dataframe\"><thead><tr><th>realized_vol_200ms_vwap_level1</th><th>realized_vol_100ms_mid</th><th>ts</th><th>ts_local</th><th>asks[0].price</th><th>asks[0].amount</th><th>bids[0].price</th><th>bids[0].amount</th><th>asks[1].price</th><th>asks[1].amount</th><th>bids[1].price</th><th>bids[1].amount</th><th>asks[2].price</th><th>asks[2].amount</th><th>bids[2].price</th><th>bids[2].amount</th><th>asks[3].price</th><th>asks[3].amount</th><th>bids[3].price</th><th>bids[3].amount</th><th>asks[4].price</th><th>asks[4].amount</th><th>bids[4].price</th><th>bids[4].amount</th><th>mid</th><th>spread</th><th>rel_return_mid</th><th>lob_price_level_bid_1</th><th>lob_price_level_ask_1</th><th>book_imbalance_5</th><th>vwap_level2</th><th>cross_vwap_level3</th><th>mid_ret_t5</th><th>vwap_level1</th><th>realized_vol_50_ticks_mid</th><th>ret_50ms_mid</th><th>zscore_500ms_mid</th><th>zscore_t50_mid</th><th>avg_100ms_mid</th><th>ts_dt</th><th>std_100ms_mid</th><th>avg_t50_mid</th><th>std_t50_mid</th></tr><tr><td>f64</td><td>f64</td><td>i64</td><td>i64</td><td>f64</td><td>f64</td><td>f64</td><td>f64</td><td>f64</td><td>f64</td><td>f64</td><td>f64</td><td>f64</td><td>f64</td><td>f64</td><td>f64</td><td>f64</td><td>f64</td><td>f64</td><td>f64</td><td>f64</td><td>f64</td><td>f64</td><td>f64</td><td>f64</td><td>f64</td><td>f64</td><td>f64</td><td>f64</td><td>f64</td><td>f64</td><td>f64</td><td>f64</td><td>f64</td><td>f64</td><td>f64</td><td>f64</td><td>f64</td><td>f64</td><td>datetime[ns]</td><td>f64</td><td>f64</td><td>f64</td></tr></thead><tbody><tr><td>6.5732e-9</td><td>0.0</td><td>1743465615902000000</td><td>1743465615904269000</td><td>82446.5</td><td>6.464</td><td>82446.4</td><td>6.04</td><td>82446.6</td><td>0.002</td><td>82446.3</td><td>0.012</td><td>82446.9</td><td>0.002</td><td>82446.2</td><td>0.002</td><td>82447.1</td><td>0.24</td><td>82446.1</td><td>0.019</td><td>82447.2</td><td>0.03</td><td>82446.0</td><td>0.072</td><td>82446.45</td><td>0.1</td><td>0.0</td><td>82446.4</td><td>82446.5</td><td>-0.04603</td><td>82446.451574</td><td>82446.448459</td><td>0.0</td><td>82446.451695</td><td>0.000014</td><td>0.0</td><td>0.0</td><td>-0.863894</td><td>82446.45</td><td>2025-04-01 00:00:15.902</td><td>0.0</td><td>82450.39</td><td>4.560746</td></tr><tr><td>3.7115e-9</td><td>0.0</td><td>1743465615955000000</td><td>1743465615957469000</td><td>82446.5</td><td>6.592</td><td>82446.4</td><td>6.033</td><td>82446.6</td><td>0.002</td><td>82446.3</td><td>0.012</td><td>82446.9</td><td>0.002</td><td>82446.2</td><td>0.002</td><td>82447.1</td><td>0.24</td><td>82446.1</td><td>0.019</td><td>82447.2</td><td>0.03</td><td>82446.0</td><td>0.072</td><td>82446.45</td><td>0.1</td><td>0.0</td><td>82446.4</td><td>82446.5</td><td>-0.055983</td><td>82446.452093</td><td>82446.44794</td><td>0.0</td><td>82446.452214</td><td>0.000014</td><td>0.0</td><td>0.0</td><td>-0.831865</td><td>82446.45</td><td>2025-04-01 00:00:15.955</td><td>0.0</td><td>82450.258</td><td>4.577667</td></tr><tr><td>1.0042e-8</td><td>0.0</td><td>1743465616268000000</td><td>1743465616270272000</td><td>82446.5</td><td>7.01</td><td>82446.4</td><td>6.055</td><td>82446.6</td><td>0.002</td><td>82446.3</td><td>0.012</td><td>82446.9</td><td>0.002</td><td>82446.2</td><td>0.002</td><td>82447.1</td><td>0.24</td><td>82446.1</td><td>0.019</td><td>82447.2</td><td>0.03</td><td>82446.0</td><td>0.072</td><td>82446.45</td><td>0.1</td><td>0.0</td><td>82446.4</td><td>82446.5</td><td>-0.083606</td><td>82446.453536</td><td>82446.446495</td><td>0.0</td><td>82446.453655</td><td>0.000014</td><td>0.0</td><td>0.0</td><td>-0.770478</td><td>82446.45</td><td>2025-04-01 00:00:16.268</td><td>0.0</td><td>82450.126</td><td>4.590654</td></tr><tr><td>2.3521e-7</td><td>0.0</td><td>1743465616472000000</td><td>1743465616473916000</td><td>82446.5</td><td>0.677</td><td>82446.4</td><td>8.276</td><td>82446.9</td><td>0.002</td><td>82446.3</td><td>0.012</td><td>82447.2</td><td>0.03</td><td>82446.2</td><td>0.199</td><td>82447.4</td><td>0.002</td><td>82446.1</td><td>0.498</td><td>82447.7</td><td>0.002</td><td>82446.0</td><td>0.072</td><td>82446.45</td><td>0.1</td><td>0.0</td><td>82446.4</td><td>82446.5</td><td>0.854043</td><td>82446.407528</td><td>82446.507286</td><td>0.0</td><td>82446.407562</td><td>0.000013</td><td>0.0</td><td>0.0</td><td>-0.706194</td><td>82446.45</td><td>2025-04-01 00:00:16.472</td><td>0.0</td><td>82449.994</td><td>4.599741</td></tr><tr><td>2.3150e-7</td><td>0.0</td><td>1743465616523000000</td><td>1743465616525912000</td><td>82446.5</td><td>0.677</td><td>82446.4</td><td>8.337</td><td>82446.9</td><td>0.002</td><td>82446.3</td><td>0.012</td><td>82447.2</td><td>0.03</td><td>82446.2</td><td>0.199</td><td>82447.4</td><td>0.002</td><td>82446.1</td><td>0.498</td><td>82447.7</td><td>0.002</td><td>82446.0</td><td>0.072</td><td>82446.45</td><td>0.1</td><td>0.0</td><td>82446.4</td><td>82446.5</td><td>0.854949</td><td>82446.407477</td><td>82446.507238</td><td>0.0</td><td>82446.407511</td><td>0.000013</td><td>0.0</td><td>0.0</td><td>-0.674848</td><td>82446.45</td><td>2025-04-01 00:00:16.523</td><td>0.0</td><td>82449.802</td><td>4.54179</td></tr><tr><td>&hellip;</td><td>&hellip;</td><td>&hellip;</td><td>&hellip;</td><td>&hellip;</td><td>&hellip;</td><td>&hellip;</td><td>&hellip;</td><td>&hellip;</td><td>&hellip;</td><td>&hellip;</td><td>&hellip;</td><td>&hellip;</td><td>&hellip;</td><td>&hellip;</td><td>&hellip;</td><td>&hellip;</td><td>&hellip;</td><td>&hellip;</td><td>&hellip;</td><td>&hellip;</td><td>&hellip;</td><td>&hellip;</td><td>&hellip;</td><td>&hellip;</td><td>&hellip;</td><td>&hellip;</td><td>&hellip;</td><td>&hellip;</td><td>&hellip;</td><td>&hellip;</td><td>&hellip;</td><td>&hellip;</td><td>&hellip;</td><td>&hellip;</td><td>&hellip;</td><td>&hellip;</td><td>&hellip;</td><td>&hellip;</td><td>&hellip;</td><td>&hellip;</td><td>&hellip;</td><td>&hellip;</td></tr><tr><td>3.7290e-8</td><td>0.0</td><td>1743465629790000000</td><td>1743465629792324000</td><td>82489.7</td><td>0.178</td><td>82489.6</td><td>17.67</td><td>82489.8</td><td>0.002</td><td>82489.5</td><td>0.008</td><td>82490.3</td><td>0.002</td><td>82489.2</td><td>0.048</td><td>82491.1</td><td>0.002</td><td>82489.1</td><td>0.002</td><td>82491.4</td><td>0.002</td><td>82488.9</td><td>0.002</td><td>82489.65</td><td>0.1</td><td>0.0</td><td>82489.6</td><td>82489.7</td><td>0.979236</td><td>82489.600974</td><td>82489.700581</td><td>0.0</td><td>82489.600997</td><td>0.000013</td><td>0.0</td><td>0.0</td><td>0.556097</td><td>82489.65</td><td>2025-04-01 00:00:29.790</td><td>0.0</td><td>82487.532</td><td>3.610737</td></tr><tr><td>3.6254e-8</td><td>0.0</td><td>1743465629842000000</td><td>1743465629845260000</td><td>82489.7</td><td>0.178</td><td>82489.6</td><td>17.75</td><td>82489.8</td><td>0.002</td><td>82489.5</td><td>0.008</td><td>82490.3</td><td>0.002</td><td>82489.2</td><td>0.048</td><td>82491.1</td><td>0.002</td><td>82489.1</td><td>0.002</td><td>82491.4</td><td>0.002</td><td>82488.9</td><td>0.002</td><td>82489.65</td><td>0.1</td><td>0.0</td><td>82489.6</td><td>82489.7</td><td>0.979329</td><td>82489.60097</td><td>82489.700578</td><td>0.0</td><td>82489.600993</td><td>0.000013</td><td>0.0</td><td>0.0</td><td>0.525541</td><td>82489.65</td><td>2025-04-01 00:00:29.842</td><td>0.0</td><td>82487.696</td><td>3.513775</td></tr><tr><td>2.2150e-8</td><td>0.0</td><td>1743465629893000000</td><td>1743465629895869000</td><td>82489.7</td><td>0.18</td><td>82489.6</td><td>17.746</td><td>82489.8</td><td>0.002</td><td>82489.5</td><td>0.008</td><td>82490.3</td><td>0.002</td><td>82489.2</td><td>0.048</td><td>82491.1</td><td>0.002</td><td>82489.1</td><td>0.002</td><td>82491.4</td><td>0.002</td><td>82488.9</td><td>0.002</td><td>82489.65</td><td>0.1</td><td>0.0</td><td>82489.6</td><td>82489.7</td><td>0.979104</td><td>82489.600981</td><td>82489.700567</td><td>0.0</td><td>82489.601004</td><td>0.000013</td><td>0.0</td><td>0.0</td><td>0.494768</td><td>82489.65</td><td>2025-04-01 00:00:29.893</td><td>0.0</td><td>82487.86</td><td>3.406012</td></tr><tr><td>0.000039</td><td>0.000056</td><td>1743465629946000000</td><td>1743465629948836000</td><td>82496.2</td><td>1.178</td><td>82496.1</td><td>19.061</td><td>82496.4</td><td>0.002</td><td>82496.0</td><td>1.545</td><td>82496.6</td><td>0.043</td><td>82495.9</td><td>0.003</td><td>82496.9</td><td>0.002</td><td>82495.7</td><td>0.002</td><td>82497.2</td><td>0.002</td><td>82495.6</td><td>0.124</td><td>82496.15</td><td>0.1</td><td>0.000079</td><td>82496.1</td><td>82496.2</td><td>0.888262</td><td>82496.098343</td><td>82496.208204</td><td>0.000079</td><td>82496.10582</td><td>0.000017</td><td>0.000079</td><td>2.041241</td><td>2.342588</td><td>82492.9</td><td>2025-04-01 00:00:29.946</td><td>4.596194</td><td>82488.154</td><td>3.475157</td></tr><tr><td>0.000039</td><td>0.000056</td><td>1743465629997000000</td><td>1743465630000149000</td><td>82496.2</td><td>0.627</td><td>82496.1</td><td>20.21</td><td>82496.4</td><td>0.002</td><td>82496.0</td><td>0.518</td><td>82496.6</td><td>0.043</td><td>82495.9</td><td>0.003</td><td>82496.9</td><td>0.002</td><td>82495.7</td><td>0.065</td><td>82497.2</td><td>0.002</td><td>82495.6</td><td>0.124</td><td>82496.15</td><td>0.1</td><td>0.0</td><td>82496.1</td><td>82496.2</td><td>0.937396</td><td>82496.100538</td><td>82496.201346</td><td>0.000079</td><td>82496.103009</td><td>0.000017</td><td>0.0</td><td>1.290994</td><td>2.234649</td><td>82496.15</td><td>2025-04-01 00:00:29.997</td><td>0.0</td><td>82488.448</td><td>3.517971</td></tr></tbody></table></div>"
      ],
      "text/plain": [
       "shape: (206, 43)\n",
       "┌───────────┬───────────┬───────────┬───────────┬───┬───────────┬───────────┬───────────┬──────────┐\n",
       "│ realized_ ┆ realized_ ┆ ts        ┆ ts_local  ┆ … ┆ ts_dt     ┆ std_100ms ┆ avg_t50_m ┆ std_t50_ │\n",
       "│ vol_200ms ┆ vol_100ms ┆ ---       ┆ ---       ┆   ┆ ---       ┆ _mid      ┆ id        ┆ mid      │\n",
       "│ _vwap_lev ┆ _mid      ┆ i64       ┆ i64       ┆   ┆ datetime[ ┆ ---       ┆ ---       ┆ ---      │\n",
       "│ el1       ┆ ---       ┆           ┆           ┆   ┆ ns]       ┆ f64       ┆ f64       ┆ f64      │\n",
       "│ ---       ┆ f64       ┆           ┆           ┆   ┆           ┆           ┆           ┆          │\n",
       "│ f64       ┆           ┆           ┆           ┆   ┆           ┆           ┆           ┆          │\n",
       "╞═══════════╪═══════════╪═══════════╪═══════════╪═══╪═══════════╪═══════════╪═══════════╪══════════╡\n",
       "│ 6.5732e-9 ┆ 0.0       ┆ 174346561 ┆ 174346561 ┆ … ┆ 2025-04-0 ┆ 0.0       ┆ 82450.39  ┆ 4.560746 │\n",
       "│           ┆           ┆ 590200000 ┆ 590426900 ┆   ┆ 1 00:00:1 ┆           ┆           ┆          │\n",
       "│           ┆           ┆ 0         ┆ 0         ┆   ┆ 5.902     ┆           ┆           ┆          │\n",
       "│ 3.7115e-9 ┆ 0.0       ┆ 174346561 ┆ 174346561 ┆ … ┆ 2025-04-0 ┆ 0.0       ┆ 82450.258 ┆ 4.577667 │\n",
       "│           ┆           ┆ 595500000 ┆ 595746900 ┆   ┆ 1 00:00:1 ┆           ┆           ┆          │\n",
       "│           ┆           ┆ 0         ┆ 0         ┆   ┆ 5.955     ┆           ┆           ┆          │\n",
       "│ 1.0042e-8 ┆ 0.0       ┆ 174346561 ┆ 174346561 ┆ … ┆ 2025-04-0 ┆ 0.0       ┆ 82450.126 ┆ 4.590654 │\n",
       "│           ┆           ┆ 626800000 ┆ 627027200 ┆   ┆ 1 00:00:1 ┆           ┆           ┆          │\n",
       "│           ┆           ┆ 0         ┆ 0         ┆   ┆ 6.268     ┆           ┆           ┆          │\n",
       "│ 2.3521e-7 ┆ 0.0       ┆ 174346561 ┆ 174346561 ┆ … ┆ 2025-04-0 ┆ 0.0       ┆ 82449.994 ┆ 4.599741 │\n",
       "│           ┆           ┆ 647200000 ┆ 647391600 ┆   ┆ 1 00:00:1 ┆           ┆           ┆          │\n",
       "│           ┆           ┆ 0         ┆ 0         ┆   ┆ 6.472     ┆           ┆           ┆          │\n",
       "│ 2.3150e-7 ┆ 0.0       ┆ 174346561 ┆ 174346561 ┆ … ┆ 2025-04-0 ┆ 0.0       ┆ 82449.802 ┆ 4.54179  │\n",
       "│           ┆           ┆ 652300000 ┆ 652591200 ┆   ┆ 1 00:00:1 ┆           ┆           ┆          │\n",
       "│           ┆           ┆ 0         ┆ 0         ┆   ┆ 6.523     ┆           ┆           ┆          │\n",
       "│ …         ┆ …         ┆ …         ┆ …         ┆ … ┆ …         ┆ …         ┆ …         ┆ …        │\n",
       "│ 3.7290e-8 ┆ 0.0       ┆ 174346562 ┆ 174346562 ┆ … ┆ 2025-04-0 ┆ 0.0       ┆ 82487.532 ┆ 3.610737 │\n",
       "│           ┆           ┆ 979000000 ┆ 979232400 ┆   ┆ 1 00:00:2 ┆           ┆           ┆          │\n",
       "│           ┆           ┆ 0         ┆ 0         ┆   ┆ 9.790     ┆           ┆           ┆          │\n",
       "│ 3.6254e-8 ┆ 0.0       ┆ 174346562 ┆ 174346562 ┆ … ┆ 2025-04-0 ┆ 0.0       ┆ 82487.696 ┆ 3.513775 │\n",
       "│           ┆           ┆ 984200000 ┆ 984526000 ┆   ┆ 1 00:00:2 ┆           ┆           ┆          │\n",
       "│           ┆           ┆ 0         ┆ 0         ┆   ┆ 9.842     ┆           ┆           ┆          │\n",
       "│ 2.2150e-8 ┆ 0.0       ┆ 174346562 ┆ 174346562 ┆ … ┆ 2025-04-0 ┆ 0.0       ┆ 82487.86  ┆ 3.406012 │\n",
       "│           ┆           ┆ 989300000 ┆ 989586900 ┆   ┆ 1 00:00:2 ┆           ┆           ┆          │\n",
       "│           ┆           ┆ 0         ┆ 0         ┆   ┆ 9.893     ┆           ┆           ┆          │\n",
       "│ 0.000039  ┆ 0.000056  ┆ 174346562 ┆ 174346562 ┆ … ┆ 2025-04-0 ┆ 4.596194  ┆ 82488.154 ┆ 3.475157 │\n",
       "│           ┆           ┆ 994600000 ┆ 994883600 ┆   ┆ 1 00:00:2 ┆           ┆           ┆          │\n",
       "│           ┆           ┆ 0         ┆ 0         ┆   ┆ 9.946     ┆           ┆           ┆          │\n",
       "│ 0.000039  ┆ 0.000056  ┆ 174346562 ┆ 174346563 ┆ … ┆ 2025-04-0 ┆ 0.0       ┆ 82488.448 ┆ 3.517971 │\n",
       "│           ┆           ┆ 999700000 ┆ 000014900 ┆   ┆ 1 00:00:2 ┆           ┆           ┆          │\n",
       "│           ┆           ┆ 0         ┆ 0         ┆   ┆ 9.997     ┆           ┆           ┆          │\n",
       "└───────────┴───────────┴───────────┴───────────┴───┴───────────┴───────────┴───────────┴──────────┘"
      ]
     },
     "execution_count": 2,
     "metadata": {},
     "output_type": "execute_result"
    }
   ],
   "source": [
    "df, feature_cols = apply_batch_features(df, feature_config)\n",
    "df"
   ]
  },
  {
   "cell_type": "code",
   "execution_count": 3,
   "id": "d744c66d-55c0-48f9-b66c-e6d504bc59eb",
   "metadata": {},
   "outputs": [],
   "source": [
    "#df.filter(df[\"realized_vol_100ms_mid_ret_t5\"].is_nan())"
   ]
  },
  {
   "cell_type": "code",
   "execution_count": 3,
   "id": "751ab2bd-4007-4618-8488-066e5d539159",
   "metadata": {},
   "outputs": [
    {
     "name": "stdout",
     "output_type": "stream",
     "text": [
      "Columns with NaN: []\n"
     ]
    }
   ],
   "source": [
    "# Only check float columns\n",
    "columns_with_nan = [\n",
    "    col for col, dtype in zip(df.columns, df.schema.values())\n",
    "    if dtype in [pl.Float32, pl.Float64]\n",
    "    and df.select(pl.col(col).is_nan().any()).item()\n",
    "]\n",
    "\n",
    "print(\"Columns with NaN:\", columns_with_nan)"
   ]
  },
  {
   "cell_type": "code",
   "execution_count": 8,
   "id": "5e9fff7d-1ace-4994-9695-992c95bbe678",
   "metadata": {},
   "outputs": [
    {
     "data": {
      "text/plain": [
       "['realized_vol_100ms_mid_ret_t5', 'mid_ret_t5']"
      ]
     },
     "execution_count": 8,
     "metadata": {},
     "output_type": "execute_result"
    }
   ],
   "source": [
    "[line for line in df.columns if 'ret_t' in line]"
   ]
  },
  {
   "cell_type": "code",
   "execution_count": 9,
   "id": "319cdedf-fe3a-4904-87a9-dbb9ff70b6d7",
   "metadata": {},
   "outputs": [
    {
     "data": {
      "text/html": [
       "<div><style>\n",
       ".dataframe > thead > tr,\n",
       ".dataframe > tbody > tr {\n",
       "  text-align: right;\n",
       "  white-space: pre-wrap;\n",
       "}\n",
       "</style>\n",
       "<small>shape: (423,)</small><table border=\"1\" class=\"dataframe\"><thead><tr><th>mid_ret_t5</th></tr><tr><td>f64</td></tr></thead><tbody><tr><td>-0.000539</td></tr><tr><td>-0.000543</td></tr><tr><td>-0.00053</td></tr><tr><td>0.000012</td></tr><tr><td>0.000007</td></tr><tr><td>&hellip;</td></tr><tr><td>0.0</td></tr><tr><td>0.0</td></tr><tr><td>0.0</td></tr><tr><td>0.000079</td></tr><tr><td>0.000079</td></tr></tbody></table></div>"
      ],
      "text/plain": [
       "shape: (423,)\n",
       "Series: 'mid_ret_t5' [f64]\n",
       "[\n",
       "\t-0.000539\n",
       "\t-0.000543\n",
       "\t-0.00053\n",
       "\t0.000012\n",
       "\t0.000007\n",
       "\t…\n",
       "\t0.0\n",
       "\t0.0\n",
       "\t0.0\n",
       "\t0.000079\n",
       "\t0.000079\n",
       "]"
      ]
     },
     "execution_count": 9,
     "metadata": {},
     "output_type": "execute_result"
    }
   ],
   "source": [
    "df ['mid_ret_t5']"
   ]
  },
  {
   "cell_type": "code",
   "execution_count": 15,
   "id": "796c397a-4554-4ee3-b85e-67e0274cdb5c",
   "metadata": {},
   "outputs": [
    {
     "data": {
      "text/plain": [
       "np.float64(82519.11)"
      ]
     },
     "execution_count": 15,
     "metadata": {},
     "output_type": "execute_result"
    }
   ],
   "source": [
    "import numpy as np\n",
    "arr=[82517.45,82517.45,82517.45,82517.45,82525.75]\n",
    "arr=np.array(arr)\n",
    "(82525.75-np.mean(arr))/np.std(arr,ddof=1)\n",
    "np.std(arr,ddof=1)\n",
    "np.mean(arr)"
   ]
  },
  {
   "cell_type": "code",
   "execution_count": null,
   "id": "8dca638b-bdae-4b78-add8-2d5a5c77aeb6",
   "metadata": {},
   "outputs": [],
   "source": []
  },
  {
   "cell_type": "code",
   "execution_count": null,
   "id": "90d6fb0c-a87f-436d-8cb6-052ad447ed9b",
   "metadata": {},
   "outputs": [],
   "source": []
  },
  {
   "cell_type": "code",
   "execution_count": 12,
   "id": "f5f7fac0-c14d-4436-b31d-fb3d215fc482",
   "metadata": {},
   "outputs": [
    {
     "data": {
      "text/plain": [
       "7.312606244954507e-06"
      ]
     },
     "execution_count": 12,
     "metadata": {},
     "output_type": "execute_result"
    }
   ],
   "source": [
    "c=82526.310427\n",
    "p=82525.706949\n",
    "(c-p)/p"
   ]
  },
  {
   "cell_type": "code",
   "execution_count": 8,
   "id": "76730ba6-d160-4655-8179-f4123e1c3a10",
   "metadata": {},
   "outputs": [
    {
     "data": {
      "text/plain": [
       "0.2575400273054486"
      ]
     },
     "execution_count": 8,
     "metadata": {},
     "output_type": "execute_result"
    }
   ],
   "source": [
    "aq=5.192+0.79\n",
    "bq=10.116+0.016\t\n",
    "(bq-aq)/(bq+aq)"
   ]
  },
  {
   "cell_type": "code",
   "execution_count": 5,
   "id": "02a1781c-a8f9-4c3e-b455-a7360ffbafc5",
   "metadata": {},
   "outputs": [
    {
     "data": {
      "text/plain": [
       "82517.46608309382"
      ]
     },
     "execution_count": 5,
     "metadata": {},
     "output_type": "execute_result"
    }
   ],
   "source": [
    "aq=5.192\n",
    "ap=82517.5\n",
    "bq=10.116\n",
    "bp=82517.4\n",
    "(bp*aq+ap*bq)/(bq+aq)"
   ]
  },
  {
   "cell_type": "code",
   "execution_count": 6,
   "id": "a9b1e72c-2fc5-4d4b-90bd-224d88a4e1a8",
   "metadata": {},
   "outputs": [
    {
     "data": {
      "text/plain": [
       "82517.43391690619"
      ]
     },
     "execution_count": 6,
     "metadata": {},
     "output_type": "execute_result"
    }
   ],
   "source": [
    "(bp*bq+ap*aq)/(bq+aq)"
   ]
  },
  {
   "cell_type": "code",
   "execution_count": null,
   "id": "127eb4c2-9c33-42f6-bf2f-f0d74409f80e",
   "metadata": {},
   "outputs": [],
   "source": []
  }
 ],
 "metadata": {
  "kernelspec": {
   "display_name": "Python (myenv)",
   "language": "python",
   "name": "myenv"
  },
  "language_info": {
   "codemirror_mode": {
    "name": "ipython",
    "version": 3
   },
   "file_extension": ".py",
   "mimetype": "text/x-python",
   "name": "python",
   "nbconvert_exporter": "python",
   "pygments_lexer": "ipython3",
   "version": "3.13.2"
  }
 },
 "nbformat": 4,
 "nbformat_minor": 5
}
