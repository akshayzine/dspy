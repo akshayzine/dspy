{
 "cells": [
  {
   "cell_type": "code",
   "execution_count": 1,
   "id": "5a7831fa-8648-433d-b75d-dc0496162163",
   "metadata": {},
   "outputs": [
    {
     "name": "stdout",
     "output_type": "stream",
     "text": [
      "/Users/akshayzine/Academics/dissertation/Code/.venv/bin/python\n"
     ]
    }
   ],
   "source": [
    "!which python"
   ]
  },
  {
   "cell_type": "code",
   "execution_count": 2,
   "id": "42f9d0e9-b61e-46ac-85dc-72ac4a59440b",
   "metadata": {},
   "outputs": [
    {
     "name": "stdout",
     "output_type": "stream",
     "text": [
      "Requirement already satisfied: cardquant in /opt/anaconda3/lib/python3.12/site-packages (0.1.10)\n",
      "Requirement already satisfied: numpy in /opt/anaconda3/lib/python3.12/site-packages (from cardquant) (1.26.4)\n",
      "Requirement already satisfied: pandas in /opt/anaconda3/lib/python3.12/site-packages (from cardquant) (2.2.2)\n",
      "Requirement already satisfied: python-dateutil>=2.8.2 in /opt/anaconda3/lib/python3.12/site-packages (from pandas->cardquant) (2.9.0.post0)\n",
      "Requirement already satisfied: pytz>=2020.1 in /opt/anaconda3/lib/python3.12/site-packages (from pandas->cardquant) (2024.1)\n",
      "Requirement already satisfied: tzdata>=2022.7 in /opt/anaconda3/lib/python3.12/site-packages (from pandas->cardquant) (2023.3)\n",
      "Requirement already satisfied: six>=1.5 in /opt/anaconda3/lib/python3.12/site-packages (from python-dateutil>=2.8.2->pandas->cardquant) (1.16.0)\n"
     ]
    }
   ],
   "source": [
    "!pip install cardquant"
   ]
  },
  {
   "cell_type": "code",
   "execution_count": 3,
   "id": "023b74e0-8ec9-47fb-af27-a3cd7f79f5f3",
   "metadata": {},
   "outputs": [],
   "source": [
    "from cardquant import CardValuation"
   ]
  },
  {
   "cell_type": "code",
   "execution_count": 7,
   "id": "348f6d33-394c-4db7-a7d6-1d68d087fff4",
   "metadata": {},
   "outputs": [
    {
     "data": {
      "text/html": [
       "<pre style=\"white-space:pre;overflow-x:auto;line-height:normal;font-family:Menlo,'DejaVu Sans Mono',consolas,'Courier New',monospace\"><span style=\"font-style: italic\">                             Future Valuation: 70.0000                             </span>\n",
       "┏━━━━━━━━┳━━━━━━━━━━━━┳━━━━━━━━━┳━━━━━━━━━┳━━━━━━━━━┳━━━━━━━━━┳━━━━━━━━━┳━━━━━━━━━┓\n",
       "┃<span style=\"font-weight: bold\"> Strike </span>┃<span style=\"font-weight: bold\"> OptionType </span>┃<span style=\"font-weight: bold\">    Theo </span>┃<span style=\"font-weight: bold\"> Delta Δ </span>┃<span style=\"font-weight: bold\"> Gamma Γ </span>┃<span style=\"font-weight: bold\"> Theta Θ </span>┃<span style=\"font-weight: bold\"> Charm ψ </span>┃<span style=\"font-weight: bold\"> Color χ </span>┃\n",
       "┡━━━━━━━━╇━━━━━━━━━━━━╇━━━━━━━━━╇━━━━━━━━━╇━━━━━━━━━╇━━━━━━━━━╇━━━━━━━━━╇━━━━━━━━━┩\n",
       "│     50 │       CALL │ 20.1199 │  0.9656 │  0.0074 │ -0.0237 │  0.0046 │ -0.0005 │\n",
       "│     50 │        PUT │  0.1199 │ -0.0276 │  0.0062 │ -0.0237 │  0.0041 │ -0.0005 │\n",
       "│     60 │       CALL │ 11.0179 │  0.8091 │  0.0252 │ -0.0898 │  0.0077 │  0.0002 │\n",
       "│     60 │        PUT │  1.0179 │ -0.1667 │  0.0232 │ -0.0898 │  0.0078 │  0.0001 │\n",
       "│     70 │       CALL │  4.3036 │  0.4817 │  0.0365 │ -0.1377 │ -0.0006 │  0.0012 │\n",
       "│     70 │        PUT │  4.3036 │ -0.4817 │  0.0365 │ -0.1377 │  0.0006 │  0.0012 │\n",
       "│     80 │       CALL │  1.0179 │  0.1667 │  0.0232 │ -0.0898 │ -0.0078 │  0.0001 │\n",
       "│     80 │        PUT │ 11.0179 │ -0.8091 │  0.0252 │ -0.0898 │ -0.0077 │  0.0002 │\n",
       "│     90 │       CALL │  0.1199 │  0.0276 │  0.0062 │ -0.0237 │ -0.0041 │ -0.0005 │\n",
       "│     90 │        PUT │ 20.1199 │ -0.9656 │  0.0074 │ -0.0237 │ -0.0046 │ -0.0005 │\n",
       "└────────┴────────────┴─────────┴─────────┴─────────┴─────────┴─────────┴─────────┘\n",
       "</pre>\n"
      ],
      "text/plain": [
       "\u001b[3m                             Future Valuation: 70.0000                             \u001b[0m\n",
       "┏━━━━━━━━┳━━━━━━━━━━━━┳━━━━━━━━━┳━━━━━━━━━┳━━━━━━━━━┳━━━━━━━━━┳━━━━━━━━━┳━━━━━━━━━┓\n",
       "┃\u001b[1m \u001b[0m\u001b[1mStrike\u001b[0m\u001b[1m \u001b[0m┃\u001b[1m \u001b[0m\u001b[1mOptionType\u001b[0m\u001b[1m \u001b[0m┃\u001b[1m \u001b[0m\u001b[1m   Theo\u001b[0m\u001b[1m \u001b[0m┃\u001b[1m \u001b[0m\u001b[1mDelta Δ\u001b[0m\u001b[1m \u001b[0m┃\u001b[1m \u001b[0m\u001b[1mGamma Γ\u001b[0m\u001b[1m \u001b[0m┃\u001b[1m \u001b[0m\u001b[1mTheta Θ\u001b[0m\u001b[1m \u001b[0m┃\u001b[1m \u001b[0m\u001b[1mCharm ψ\u001b[0m\u001b[1m \u001b[0m┃\u001b[1m \u001b[0m\u001b[1mColor χ\u001b[0m\u001b[1m \u001b[0m┃\n",
       "┡━━━━━━━━╇━━━━━━━━━━━━╇━━━━━━━━━╇━━━━━━━━━╇━━━━━━━━━╇━━━━━━━━━╇━━━━━━━━━╇━━━━━━━━━┩\n",
       "│     50 │       CALL │ 20.1199 │  0.9656 │  0.0074 │ -0.0237 │  0.0046 │ -0.0005 │\n",
       "│     50 │        PUT │  0.1199 │ -0.0276 │  0.0062 │ -0.0237 │  0.0041 │ -0.0005 │\n",
       "│     60 │       CALL │ 11.0179 │  0.8091 │  0.0252 │ -0.0898 │  0.0077 │  0.0002 │\n",
       "│     60 │        PUT │  1.0179 │ -0.1667 │  0.0232 │ -0.0898 │  0.0078 │  0.0001 │\n",
       "│     70 │       CALL │  4.3036 │  0.4817 │  0.0365 │ -0.1377 │ -0.0006 │  0.0012 │\n",
       "│     70 │        PUT │  4.3036 │ -0.4817 │  0.0365 │ -0.1377 │  0.0006 │  0.0012 │\n",
       "│     80 │       CALL │  1.0179 │  0.1667 │  0.0232 │ -0.0898 │ -0.0078 │  0.0001 │\n",
       "│     80 │        PUT │ 11.0179 │ -0.8091 │  0.0252 │ -0.0898 │ -0.0077 │  0.0002 │\n",
       "│     90 │       CALL │  0.1199 │  0.0276 │  0.0062 │ -0.0237 │ -0.0041 │ -0.0005 │\n",
       "│     90 │        PUT │ 20.1199 │ -0.9656 │  0.0074 │ -0.0237 │ -0.0046 │ -0.0005 │\n",
       "└────────┴────────────┴─────────┴─────────┴─────────┴─────────┴─────────┴─────────┘\n"
      ]
     },
     "metadata": {},
     "output_type": "display_data"
    },
    {
     "name": "stdout",
     "output_type": "stream",
     "text": [
      "\n"
     ]
    }
   ],
   "source": [
    "pricing_engine = CardValuation(\n",
    "n=10,\n",
    "seen_cards=[],\n",
    "strike_list=list(range (50,91,10)), deck=list(range (1,14))*4,\n",
    "with_replacement=False, calculate_all_greeks=True)\n",
    "print (pricing_engine)"
   ]
  },
  {
   "cell_type": "code",
   "execution_count": 8,
   "id": "a27c5710-6ee2-46d9-ad4c-d8edae246407",
   "metadata": {},
   "outputs": [
    {
     "data": {
      "text/plain": [
       "70.0"
      ]
     },
     "execution_count": 8,
     "metadata": {},
     "output_type": "execute_result"
    }
   ],
   "source": [
    "pricing_engine.future"
   ]
  },
  {
   "cell_type": "code",
   "execution_count": 11,
   "id": "6ba8b7fb-fe22-463b-9777-9f8cddac6141",
   "metadata": {},
   "outputs": [
    {
     "data": {
      "text/plain": [
       "(20.119890002545134, -0.13773417628813078)"
      ]
     },
     "execution_count": 11,
     "metadata": {},
     "output_type": "execute_result"
    }
   ],
   "source": [
    "pricing_engine.options[50].call.theo, pricing_engine.options[70].put.theta"
   ]
  },
  {
   "cell_type": "code",
   "execution_count": 12,
   "id": "b3a2b0e0-165c-47cd-8c5a-00eef1860554",
   "metadata": {},
   "outputs": [
    {
     "data": {
      "text/html": [
       "<pre style=\"white-space:pre;overflow-x:auto;line-height:normal;font-family:Menlo,'DejaVu Sans Mono',consolas,'Courier New',monospace\"><span style=\"font-style: italic\">                             Future Valuation: 68.3529                             </span>\n",
       "┏━━━━━━━━┳━━━━━━━━━━━━┳━━━━━━━━━┳━━━━━━━━━┳━━━━━━━━━┳━━━━━━━━━┳━━━━━━━━━┳━━━━━━━━━┓\n",
       "┃<span style=\"font-weight: bold\"> Strike </span>┃<span style=\"font-weight: bold\"> OptionType </span>┃<span style=\"font-weight: bold\">    Theo </span>┃<span style=\"font-weight: bold\"> Delta Δ </span>┃<span style=\"font-weight: bold\"> Gamma Γ </span>┃<span style=\"font-weight: bold\"> Theta Θ </span>┃<span style=\"font-weight: bold\"> Charm ψ </span>┃<span style=\"font-weight: bold\"> Color χ </span>┃\n",
       "┡━━━━━━━━╇━━━━━━━━━━━━╇━━━━━━━━━╇━━━━━━━━━╇━━━━━━━━━╇━━━━━━━━━╇━━━━━━━━━╇━━━━━━━━━┩\n",
       "│     50 │       CALL │ 18.5016 │  0.9574 │  0.0091 │ -0.0316 │  0.0060 │ -0.0007 │\n",
       "│     50 │        PUT │  0.1486 │ -0.0343 │  0.0076 │ -0.0316 │  0.0054 │ -0.0007 │\n",
       "│     60 │       CALL │  9.5911 │  0.7728 │  0.0288 │ -0.1126 │  0.0085 │  0.0005 │\n",
       "│     60 │        PUT │  1.2382 │ -0.1994 │  0.0268 │ -0.1126 │  0.0089 │  0.0003 │\n",
       "│     70 │       CALL │  3.3811 │  0.4197 │  0.0371 │ -0.1534 │ -0.0029 │  0.0013 │\n",
       "│     70 │        PUT │  5.0281 │ -0.5429 │  0.0376 │ -0.1534 │ -0.0016 │  0.0014 │\n",
       "│     80 │       CALL │  0.6692 │  0.1226 │  0.0198 │ -0.0831 │ -0.0090 │ -0.0002 │\n",
       "│     80 │        PUT │ 12.3162 │ -0.8565 │  0.0220 │ -0.0831 │ -0.0091 │ -0.0001 │\n",
       "│     90 │       CALL │  0.0579 │  0.0152 │  0.0040 │ -0.0162 │ -0.0033 │ -0.0006 │\n",
       "│     90 │        PUT │ 21.7049 │ -0.9804 │  0.0049 │ -0.0162 │ -0.0039 │ -0.0006 │\n",
       "└────────┴────────────┴─────────┴─────────┴─────────┴─────────┴─────────┴─────────┘\n",
       "</pre>\n"
      ],
      "text/plain": [
       "\u001b[3m                             Future Valuation: 68.3529                             \u001b[0m\n",
       "┏━━━━━━━━┳━━━━━━━━━━━━┳━━━━━━━━━┳━━━━━━━━━┳━━━━━━━━━┳━━━━━━━━━┳━━━━━━━━━┳━━━━━━━━━┓\n",
       "┃\u001b[1m \u001b[0m\u001b[1mStrike\u001b[0m\u001b[1m \u001b[0m┃\u001b[1m \u001b[0m\u001b[1mOptionType\u001b[0m\u001b[1m \u001b[0m┃\u001b[1m \u001b[0m\u001b[1m   Theo\u001b[0m\u001b[1m \u001b[0m┃\u001b[1m \u001b[0m\u001b[1mDelta Δ\u001b[0m\u001b[1m \u001b[0m┃\u001b[1m \u001b[0m\u001b[1mGamma Γ\u001b[0m\u001b[1m \u001b[0m┃\u001b[1m \u001b[0m\u001b[1mTheta Θ\u001b[0m\u001b[1m \u001b[0m┃\u001b[1m \u001b[0m\u001b[1mCharm ψ\u001b[0m\u001b[1m \u001b[0m┃\u001b[1m \u001b[0m\u001b[1mColor χ\u001b[0m\u001b[1m \u001b[0m┃\n",
       "┡━━━━━━━━╇━━━━━━━━━━━━╇━━━━━━━━━╇━━━━━━━━━╇━━━━━━━━━╇━━━━━━━━━╇━━━━━━━━━╇━━━━━━━━━┩\n",
       "│     50 │       CALL │ 18.5016 │  0.9574 │  0.0091 │ -0.0316 │  0.0060 │ -0.0007 │\n",
       "│     50 │        PUT │  0.1486 │ -0.0343 │  0.0076 │ -0.0316 │  0.0054 │ -0.0007 │\n",
       "│     60 │       CALL │  9.5911 │  0.7728 │  0.0288 │ -0.1126 │  0.0085 │  0.0005 │\n",
       "│     60 │        PUT │  1.2382 │ -0.1994 │  0.0268 │ -0.1126 │  0.0089 │  0.0003 │\n",
       "│     70 │       CALL │  3.3811 │  0.4197 │  0.0371 │ -0.1534 │ -0.0029 │  0.0013 │\n",
       "│     70 │        PUT │  5.0281 │ -0.5429 │  0.0376 │ -0.1534 │ -0.0016 │  0.0014 │\n",
       "│     80 │       CALL │  0.6692 │  0.1226 │  0.0198 │ -0.0831 │ -0.0090 │ -0.0002 │\n",
       "│     80 │        PUT │ 12.3162 │ -0.8565 │  0.0220 │ -0.0831 │ -0.0091 │ -0.0001 │\n",
       "│     90 │       CALL │  0.0579 │  0.0152 │  0.0040 │ -0.0162 │ -0.0033 │ -0.0006 │\n",
       "│     90 │        PUT │ 21.7049 │ -0.9804 │  0.0049 │ -0.0162 │ -0.0039 │ -0.0006 │\n",
       "└────────┴────────────┴─────────┴─────────┴─────────┴─────────┴─────────┴─────────┘\n"
      ]
     },
     "metadata": {},
     "output_type": "display_data"
    },
    {
     "name": "stdout",
     "output_type": "stream",
     "text": [
      "\n"
     ]
    }
   ],
   "source": [
    "pricing_engine.add_card (5)\n",
    "print (pricing_engine)"
   ]
  },
  {
   "cell_type": "code",
   "execution_count": null,
   "id": "102ba549-b1f4-4138-a64d-abeafcd6e1e5",
   "metadata": {},
   "outputs": [],
   "source": []
  }
 ],
 "metadata": {
  "kernelspec": {
   "display_name": "Python 3 (ipykernel)",
   "language": "python",
   "name": "python3"
  },
  "language_info": {
   "codemirror_mode": {
    "name": "ipython",
    "version": 3
   },
   "file_extension": ".py",
   "mimetype": "text/x-python",
   "name": "python",
   "nbconvert_exporter": "python",
   "pygments_lexer": "ipython3",
   "version": "3.12.7"
  }
 },
 "nbformat": 4,
 "nbformat_minor": 5
}
